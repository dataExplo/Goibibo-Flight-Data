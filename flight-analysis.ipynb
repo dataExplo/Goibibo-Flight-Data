{
 "cells": [
  {
   "cell_type": "code",
   "execution_count": 1,
   "id": "cf2e067a",
   "metadata": {
    "_cell_guid": "b1076dfc-b9ad-4769-8c92-a6c4dae69d19",
    "_uuid": "8f2839f25d086af736a60e9eeb907d3b93b6e0e5",
    "execution": {
     "iopub.execute_input": "2024-10-23T11:12:51.672574Z",
     "iopub.status.busy": "2024-10-23T11:12:51.672092Z",
     "iopub.status.idle": "2024-10-23T11:12:52.694640Z",
     "shell.execute_reply": "2024-10-23T11:12:52.693240Z"
    },
    "papermill": {
     "duration": 1.043206,
     "end_time": "2024-10-23T11:12:52.697528",
     "exception": false,
     "start_time": "2024-10-23T11:12:51.654322",
     "status": "completed"
    },
    "tags": []
   },
   "outputs": [
    {
     "name": "stdout",
     "output_type": "stream",
     "text": [
      "/kaggle/input/goibibo-flight-data/goibibo_flights_data.csv\n"
     ]
    }
   ],
   "source": [
    "# This Python 3 environment comes with many helpful analytics libraries installed\n",
    "# It is defined by the kaggle/python Docker image: https://github.com/kaggle/docker-python\n",
    "# For example, here's several helpful packages to load\n",
    "\n",
    "import numpy as np # linear algebra\n",
    "import pandas as pd # data processing, CSV file I/O (e.g. pd.read_csv)\n",
    "\n",
    "# Input data files are available in the read-only \"../input/\" directory\n",
    "# For example, running this (by clicking run or pressing Shift+Enter) will list all files under the input directory\n",
    "\n",
    "import os\n",
    "for dirname, _, filenames in os.walk('/kaggle/input'):\n",
    "    for filename in filenames:\n",
    "        print(os.path.join(dirname, filename))\n",
    "\n",
    "# You can write up to 20GB to the current directory (/kaggle/working/) that gets preserved as output when you create a version using \"Save & Run All\" \n",
    "# You can also write temporary files to /kaggle/temp/, but they won't be saved outside of the current session"
   ]
  },
  {
   "cell_type": "code",
   "execution_count": 2,
   "id": "d964d360",
   "metadata": {
    "execution": {
     "iopub.execute_input": "2024-10-23T11:12:52.731548Z",
     "iopub.status.busy": "2024-10-23T11:12:52.730974Z",
     "iopub.status.idle": "2024-10-23T11:12:54.615086Z",
     "shell.execute_reply": "2024-10-23T11:12:54.613779Z"
    },
    "papermill": {
     "duration": 1.904887,
     "end_time": "2024-10-23T11:12:54.617918",
     "exception": false,
     "start_time": "2024-10-23T11:12:52.713031",
     "status": "completed"
    },
    "tags": []
   },
   "outputs": [],
   "source": [
    "import pandas as pd\n",
    "import numpy as np\n",
    "import matplotlib.pyplot as plt\n",
    "import seaborn as sns\n",
    "%matplotlib inline\n",
    "import warnings\n",
    "warnings.filterwarnings(\"ignore\")\n"
   ]
  },
  {
   "cell_type": "code",
   "execution_count": 3,
   "id": "214f1b27",
   "metadata": {
    "execution": {
     "iopub.execute_input": "2024-10-23T11:12:54.650451Z",
     "iopub.status.busy": "2024-10-23T11:12:54.649828Z",
     "iopub.status.idle": "2024-10-23T11:12:55.687119Z",
     "shell.execute_reply": "2024-10-23T11:12:55.685804Z"
    },
    "papermill": {
     "duration": 1.056977,
     "end_time": "2024-10-23T11:12:55.690085",
     "exception": false,
     "start_time": "2024-10-23T11:12:54.633108",
     "status": "completed"
    },
    "tags": []
   },
   "outputs": [],
   "source": [
    "df=pd.read_csv(\"/kaggle/input/goibibo-flight-data/goibibo_flights_data.csv\")"
   ]
  },
  {
   "cell_type": "code",
   "execution_count": 4,
   "id": "8034faad",
   "metadata": {
    "execution": {
     "iopub.execute_input": "2024-10-23T11:12:55.722746Z",
     "iopub.status.busy": "2024-10-23T11:12:55.722308Z",
     "iopub.status.idle": "2024-10-23T11:12:55.752975Z",
     "shell.execute_reply": "2024-10-23T11:12:55.751642Z"
    },
    "papermill": {
     "duration": 0.050428,
     "end_time": "2024-10-23T11:12:55.755874",
     "exception": false,
     "start_time": "2024-10-23T11:12:55.705446",
     "status": "completed"
    },
    "tags": []
   },
   "outputs": [
    {
     "data": {
      "text/html": [
       "<div>\n",
       "<style scoped>\n",
       "    .dataframe tbody tr th:only-of-type {\n",
       "        vertical-align: middle;\n",
       "    }\n",
       "\n",
       "    .dataframe tbody tr th {\n",
       "        vertical-align: top;\n",
       "    }\n",
       "\n",
       "    .dataframe thead th {\n",
       "        text-align: right;\n",
       "    }\n",
       "</style>\n",
       "<table border=\"1\" class=\"dataframe\">\n",
       "  <thead>\n",
       "    <tr style=\"text-align: right;\">\n",
       "      <th></th>\n",
       "      <th>flight date</th>\n",
       "      <th>airline</th>\n",
       "      <th>flight_num</th>\n",
       "      <th>class</th>\n",
       "      <th>from</th>\n",
       "      <th>dep_time</th>\n",
       "      <th>to</th>\n",
       "      <th>arr_time</th>\n",
       "      <th>duration</th>\n",
       "      <th>price</th>\n",
       "      <th>stops</th>\n",
       "      <th>Unnamed: 11</th>\n",
       "      <th>Unnamed: 12</th>\n",
       "    </tr>\n",
       "  </thead>\n",
       "  <tbody>\n",
       "    <tr>\n",
       "      <th>0</th>\n",
       "      <td>26-06-2023</td>\n",
       "      <td>SpiceJet</td>\n",
       "      <td>SG-8709</td>\n",
       "      <td>economy</td>\n",
       "      <td>Delhi</td>\n",
       "      <td>18:55</td>\n",
       "      <td>Mumbai</td>\n",
       "      <td>21:05</td>\n",
       "      <td>02h 10m</td>\n",
       "      <td>6,013</td>\n",
       "      <td>non-stop</td>\n",
       "      <td>NaN</td>\n",
       "      <td>NaN</td>\n",
       "    </tr>\n",
       "    <tr>\n",
       "      <th>1</th>\n",
       "      <td>26-06-2023</td>\n",
       "      <td>SpiceJet</td>\n",
       "      <td>SG-8157</td>\n",
       "      <td>economy</td>\n",
       "      <td>Delhi</td>\n",
       "      <td>06:20</td>\n",
       "      <td>Mumbai</td>\n",
       "      <td>08:40</td>\n",
       "      <td>02h 20m</td>\n",
       "      <td>6,013</td>\n",
       "      <td>non-stop</td>\n",
       "      <td>NaN</td>\n",
       "      <td>NaN</td>\n",
       "    </tr>\n",
       "    <tr>\n",
       "      <th>2</th>\n",
       "      <td>26-06-2023</td>\n",
       "      <td>AirAsia</td>\n",
       "      <td>I5-764</td>\n",
       "      <td>economy</td>\n",
       "      <td>Delhi</td>\n",
       "      <td>04:25</td>\n",
       "      <td>Mumbai</td>\n",
       "      <td>06:35</td>\n",
       "      <td>02h 10m</td>\n",
       "      <td>6,016</td>\n",
       "      <td>non-stop</td>\n",
       "      <td>NaN</td>\n",
       "      <td>NaN</td>\n",
       "    </tr>\n",
       "    <tr>\n",
       "      <th>3</th>\n",
       "      <td>26-06-2023</td>\n",
       "      <td>Vistara</td>\n",
       "      <td>UK-995</td>\n",
       "      <td>economy</td>\n",
       "      <td>Delhi</td>\n",
       "      <td>10:20</td>\n",
       "      <td>Mumbai</td>\n",
       "      <td>12:35</td>\n",
       "      <td>02h 15m</td>\n",
       "      <td>6,015</td>\n",
       "      <td>non-stop</td>\n",
       "      <td>NaN</td>\n",
       "      <td>NaN</td>\n",
       "    </tr>\n",
       "    <tr>\n",
       "      <th>4</th>\n",
       "      <td>26-06-2023</td>\n",
       "      <td>Vistara</td>\n",
       "      <td>UK-963</td>\n",
       "      <td>economy</td>\n",
       "      <td>Delhi</td>\n",
       "      <td>08:50</td>\n",
       "      <td>Mumbai</td>\n",
       "      <td>11:10</td>\n",
       "      <td>02h 20m</td>\n",
       "      <td>6,015</td>\n",
       "      <td>non-stop</td>\n",
       "      <td>NaN</td>\n",
       "      <td>NaN</td>\n",
       "    </tr>\n",
       "  </tbody>\n",
       "</table>\n",
       "</div>"
      ],
      "text/plain": [
       "  flight date   airline flight_num    class   from dep_time      to arr_time  \\\n",
       "0  26-06-2023  SpiceJet    SG-8709  economy  Delhi    18:55  Mumbai    21:05   \n",
       "1  26-06-2023  SpiceJet    SG-8157  economy  Delhi    06:20  Mumbai    08:40   \n",
       "2  26-06-2023   AirAsia     I5-764  economy  Delhi    04:25  Mumbai    06:35   \n",
       "3  26-06-2023   Vistara     UK-995  economy  Delhi    10:20  Mumbai    12:35   \n",
       "4  26-06-2023   Vistara     UK-963  economy  Delhi    08:50  Mumbai    11:10   \n",
       "\n",
       "  duration  price     stops  Unnamed: 11  Unnamed: 12  \n",
       "0  02h 10m  6,013  non-stop          NaN          NaN  \n",
       "1  02h 20m  6,013  non-stop          NaN          NaN  \n",
       "2  02h 10m  6,016  non-stop          NaN          NaN  \n",
       "3  02h 15m  6,015  non-stop          NaN          NaN  \n",
       "4  02h 20m  6,015  non-stop          NaN          NaN  "
      ]
     },
     "execution_count": 4,
     "metadata": {},
     "output_type": "execute_result"
    }
   ],
   "source": [
    "df.head()"
   ]
  },
  {
   "cell_type": "code",
   "execution_count": 5,
   "id": "c91d514f",
   "metadata": {
    "execution": {
     "iopub.execute_input": "2024-10-23T11:12:55.789678Z",
     "iopub.status.busy": "2024-10-23T11:12:55.788722Z",
     "iopub.status.idle": "2024-10-23T11:12:55.798462Z",
     "shell.execute_reply": "2024-10-23T11:12:55.797110Z"
    },
    "papermill": {
     "duration": 0.029668,
     "end_time": "2024-10-23T11:12:55.801372",
     "exception": false,
     "start_time": "2024-10-23T11:12:55.771704",
     "status": "completed"
    },
    "tags": []
   },
   "outputs": [
    {
     "data": {
      "text/plain": [
       "flight date     object\n",
       "airline         object\n",
       "flight_num      object\n",
       "class           object\n",
       "from            object\n",
       "dep_time        object\n",
       "to              object\n",
       "arr_time        object\n",
       "duration        object\n",
       "price           object\n",
       "stops           object\n",
       "Unnamed: 11    float64\n",
       "Unnamed: 12    float64\n",
       "dtype: object"
      ]
     },
     "execution_count": 5,
     "metadata": {},
     "output_type": "execute_result"
    }
   ],
   "source": [
    "df.dtypes"
   ]
  },
  {
   "cell_type": "code",
   "execution_count": 6,
   "id": "f6d50306",
   "metadata": {
    "execution": {
     "iopub.execute_input": "2024-10-23T11:12:55.835328Z",
     "iopub.status.busy": "2024-10-23T11:12:55.834818Z",
     "iopub.status.idle": "2024-10-23T11:12:56.202480Z",
     "shell.execute_reply": "2024-10-23T11:12:56.201235Z"
    },
    "papermill": {
     "duration": 0.387549,
     "end_time": "2024-10-23T11:12:56.205265",
     "exception": false,
     "start_time": "2024-10-23T11:12:55.817716",
     "status": "completed"
    },
    "tags": []
   },
   "outputs": [
    {
     "data": {
      "text/plain": [
       "flight date         0\n",
       "airline             0\n",
       "flight_num          0\n",
       "class               0\n",
       "from                0\n",
       "dep_time            0\n",
       "to                  0\n",
       "arr_time            0\n",
       "duration            0\n",
       "price               0\n",
       "stops               0\n",
       "Unnamed: 11    300261\n",
       "Unnamed: 12    300261\n",
       "dtype: int64"
      ]
     },
     "execution_count": 6,
     "metadata": {},
     "output_type": "execute_result"
    }
   ],
   "source": [
    "df.isnull().sum()"
   ]
  },
  {
   "cell_type": "code",
   "execution_count": 7,
   "id": "bce0d1b8",
   "metadata": {
    "execution": {
     "iopub.execute_input": "2024-10-23T11:12:56.238988Z",
     "iopub.status.busy": "2024-10-23T11:12:56.238517Z",
     "iopub.status.idle": "2024-10-23T11:12:56.290789Z",
     "shell.execute_reply": "2024-10-23T11:12:56.289566Z"
    },
    "papermill": {
     "duration": 0.072207,
     "end_time": "2024-10-23T11:12:56.293398",
     "exception": false,
     "start_time": "2024-10-23T11:12:56.221191",
     "status": "completed"
    },
    "tags": []
   },
   "outputs": [],
   "source": [
    "df.drop('Unnamed: 11', axis=1,inplace=True)"
   ]
  },
  {
   "cell_type": "code",
   "execution_count": 8,
   "id": "94ac1045",
   "metadata": {
    "execution": {
     "iopub.execute_input": "2024-10-23T11:12:56.327590Z",
     "iopub.status.busy": "2024-10-23T11:12:56.327150Z",
     "iopub.status.idle": "2024-10-23T11:12:56.390208Z",
     "shell.execute_reply": "2024-10-23T11:12:56.388469Z"
    },
    "papermill": {
     "duration": 0.083871,
     "end_time": "2024-10-23T11:12:56.393193",
     "exception": false,
     "start_time": "2024-10-23T11:12:56.309322",
     "status": "completed"
    },
    "tags": []
   },
   "outputs": [],
   "source": [
    "df.drop('Unnamed: 12', axis=1,inplace=True)"
   ]
  },
  {
   "cell_type": "code",
   "execution_count": 9,
   "id": "f4d34aae",
   "metadata": {
    "execution": {
     "iopub.execute_input": "2024-10-23T11:12:56.426991Z",
     "iopub.status.busy": "2024-10-23T11:12:56.426498Z",
     "iopub.status.idle": "2024-10-23T11:12:57.430333Z",
     "shell.execute_reply": "2024-10-23T11:12:57.429161Z"
    },
    "papermill": {
     "duration": 1.023995,
     "end_time": "2024-10-23T11:12:57.433097",
     "exception": false,
     "start_time": "2024-10-23T11:12:56.409102",
     "status": "completed"
    },
    "tags": []
   },
   "outputs": [
    {
     "data": {
      "text/html": [
       "<div>\n",
       "<style scoped>\n",
       "    .dataframe tbody tr th:only-of-type {\n",
       "        vertical-align: middle;\n",
       "    }\n",
       "\n",
       "    .dataframe tbody tr th {\n",
       "        vertical-align: top;\n",
       "    }\n",
       "\n",
       "    .dataframe thead th {\n",
       "        text-align: right;\n",
       "    }\n",
       "</style>\n",
       "<table border=\"1\" class=\"dataframe\">\n",
       "  <thead>\n",
       "    <tr style=\"text-align: right;\">\n",
       "      <th></th>\n",
       "      <th>flight date</th>\n",
       "      <th>airline</th>\n",
       "      <th>flight_num</th>\n",
       "      <th>class</th>\n",
       "      <th>from</th>\n",
       "      <th>dep_time</th>\n",
       "      <th>to</th>\n",
       "      <th>arr_time</th>\n",
       "      <th>duration</th>\n",
       "      <th>price</th>\n",
       "      <th>stops</th>\n",
       "    </tr>\n",
       "  </thead>\n",
       "  <tbody>\n",
       "    <tr>\n",
       "      <th>count</th>\n",
       "      <td>300261</td>\n",
       "      <td>300261</td>\n",
       "      <td>300261</td>\n",
       "      <td>300261</td>\n",
       "      <td>300261</td>\n",
       "      <td>300261</td>\n",
       "      <td>300261</td>\n",
       "      <td>300261</td>\n",
       "      <td>300261</td>\n",
       "      <td>300261</td>\n",
       "      <td>300261</td>\n",
       "    </tr>\n",
       "    <tr>\n",
       "      <th>unique</th>\n",
       "      <td>49</td>\n",
       "      <td>8</td>\n",
       "      <td>1569</td>\n",
       "      <td>2</td>\n",
       "      <td>6</td>\n",
       "      <td>251</td>\n",
       "      <td>6</td>\n",
       "      <td>266</td>\n",
       "      <td>483</td>\n",
       "      <td>12170</td>\n",
       "      <td>40</td>\n",
       "    </tr>\n",
       "    <tr>\n",
       "      <th>top</th>\n",
       "      <td>20-07-2023</td>\n",
       "      <td>Vistara</td>\n",
       "      <td>UK-706</td>\n",
       "      <td>economy</td>\n",
       "      <td>Delhi</td>\n",
       "      <td>07:00</td>\n",
       "      <td>Mumbai</td>\n",
       "      <td>19:55</td>\n",
       "      <td>02h 10m</td>\n",
       "      <td>55,427</td>\n",
       "      <td>1-stop</td>\n",
       "    </tr>\n",
       "    <tr>\n",
       "      <th>freq</th>\n",
       "      <td>6633</td>\n",
       "      <td>127859</td>\n",
       "      <td>3235</td>\n",
       "      <td>206774</td>\n",
       "      <td>61345</td>\n",
       "      <td>8760</td>\n",
       "      <td>59109</td>\n",
       "      <td>9194</td>\n",
       "      <td>4242</td>\n",
       "      <td>1445</td>\n",
       "      <td>243603</td>\n",
       "    </tr>\n",
       "  </tbody>\n",
       "</table>\n",
       "</div>"
      ],
      "text/plain": [
       "       flight date  airline flight_num    class    from dep_time      to  \\\n",
       "count       300261   300261     300261   300261  300261   300261  300261   \n",
       "unique          49        8       1569        2       6      251       6   \n",
       "top     20-07-2023  Vistara     UK-706  economy   Delhi    07:00  Mumbai   \n",
       "freq          6633   127859       3235   206774   61345     8760   59109   \n",
       "\n",
       "       arr_time duration   price   stops  \n",
       "count    300261   300261  300261  300261  \n",
       "unique      266      483   12170      40  \n",
       "top       19:55  02h 10m  55,427  1-stop  \n",
       "freq       9194     4242    1445  243603  "
      ]
     },
     "execution_count": 9,
     "metadata": {},
     "output_type": "execute_result"
    }
   ],
   "source": [
    "df.describe()"
   ]
  },
  {
   "cell_type": "code",
   "execution_count": 10,
   "id": "29900e74",
   "metadata": {
    "execution": {
     "iopub.execute_input": "2024-10-23T11:12:57.467179Z",
     "iopub.status.busy": "2024-10-23T11:12:57.466749Z",
     "iopub.status.idle": "2024-10-23T11:12:57.484438Z",
     "shell.execute_reply": "2024-10-23T11:12:57.483228Z"
    },
    "papermill": {
     "duration": 0.037735,
     "end_time": "2024-10-23T11:12:57.487007",
     "exception": false,
     "start_time": "2024-10-23T11:12:57.449272",
     "status": "completed"
    },
    "tags": []
   },
   "outputs": [
    {
     "data": {
      "text/html": [
       "<div>\n",
       "<style scoped>\n",
       "    .dataframe tbody tr th:only-of-type {\n",
       "        vertical-align: middle;\n",
       "    }\n",
       "\n",
       "    .dataframe tbody tr th {\n",
       "        vertical-align: top;\n",
       "    }\n",
       "\n",
       "    .dataframe thead th {\n",
       "        text-align: right;\n",
       "    }\n",
       "</style>\n",
       "<table border=\"1\" class=\"dataframe\">\n",
       "  <thead>\n",
       "    <tr style=\"text-align: right;\">\n",
       "      <th></th>\n",
       "      <th>flight date</th>\n",
       "      <th>airline</th>\n",
       "      <th>flight_num</th>\n",
       "      <th>class</th>\n",
       "      <th>from</th>\n",
       "      <th>dep_time</th>\n",
       "      <th>to</th>\n",
       "      <th>arr_time</th>\n",
       "      <th>duration</th>\n",
       "      <th>price</th>\n",
       "      <th>stops</th>\n",
       "    </tr>\n",
       "  </thead>\n",
       "  <tbody>\n",
       "    <tr>\n",
       "      <th>0</th>\n",
       "      <td>26-06-2023</td>\n",
       "      <td>SpiceJet</td>\n",
       "      <td>SG-8709</td>\n",
       "      <td>economy</td>\n",
       "      <td>Delhi</td>\n",
       "      <td>18:55</td>\n",
       "      <td>Mumbai</td>\n",
       "      <td>21:05</td>\n",
       "      <td>02h 10m</td>\n",
       "      <td>6,013</td>\n",
       "      <td>non-stop</td>\n",
       "    </tr>\n",
       "    <tr>\n",
       "      <th>1</th>\n",
       "      <td>26-06-2023</td>\n",
       "      <td>SpiceJet</td>\n",
       "      <td>SG-8157</td>\n",
       "      <td>economy</td>\n",
       "      <td>Delhi</td>\n",
       "      <td>06:20</td>\n",
       "      <td>Mumbai</td>\n",
       "      <td>08:40</td>\n",
       "      <td>02h 20m</td>\n",
       "      <td>6,013</td>\n",
       "      <td>non-stop</td>\n",
       "    </tr>\n",
       "    <tr>\n",
       "      <th>2</th>\n",
       "      <td>26-06-2023</td>\n",
       "      <td>AirAsia</td>\n",
       "      <td>I5-764</td>\n",
       "      <td>economy</td>\n",
       "      <td>Delhi</td>\n",
       "      <td>04:25</td>\n",
       "      <td>Mumbai</td>\n",
       "      <td>06:35</td>\n",
       "      <td>02h 10m</td>\n",
       "      <td>6,016</td>\n",
       "      <td>non-stop</td>\n",
       "    </tr>\n",
       "    <tr>\n",
       "      <th>3</th>\n",
       "      <td>26-06-2023</td>\n",
       "      <td>Vistara</td>\n",
       "      <td>UK-995</td>\n",
       "      <td>economy</td>\n",
       "      <td>Delhi</td>\n",
       "      <td>10:20</td>\n",
       "      <td>Mumbai</td>\n",
       "      <td>12:35</td>\n",
       "      <td>02h 15m</td>\n",
       "      <td>6,015</td>\n",
       "      <td>non-stop</td>\n",
       "    </tr>\n",
       "    <tr>\n",
       "      <th>4</th>\n",
       "      <td>26-06-2023</td>\n",
       "      <td>Vistara</td>\n",
       "      <td>UK-963</td>\n",
       "      <td>economy</td>\n",
       "      <td>Delhi</td>\n",
       "      <td>08:50</td>\n",
       "      <td>Mumbai</td>\n",
       "      <td>11:10</td>\n",
       "      <td>02h 20m</td>\n",
       "      <td>6,015</td>\n",
       "      <td>non-stop</td>\n",
       "    </tr>\n",
       "  </tbody>\n",
       "</table>\n",
       "</div>"
      ],
      "text/plain": [
       "  flight date   airline flight_num    class   from dep_time      to arr_time  \\\n",
       "0  26-06-2023  SpiceJet    SG-8709  economy  Delhi    18:55  Mumbai    21:05   \n",
       "1  26-06-2023  SpiceJet    SG-8157  economy  Delhi    06:20  Mumbai    08:40   \n",
       "2  26-06-2023   AirAsia     I5-764  economy  Delhi    04:25  Mumbai    06:35   \n",
       "3  26-06-2023   Vistara     UK-995  economy  Delhi    10:20  Mumbai    12:35   \n",
       "4  26-06-2023   Vistara     UK-963  economy  Delhi    08:50  Mumbai    11:10   \n",
       "\n",
       "  duration  price     stops  \n",
       "0  02h 10m  6,013  non-stop  \n",
       "1  02h 20m  6,013  non-stop  \n",
       "2  02h 10m  6,016  non-stop  \n",
       "3  02h 15m  6,015  non-stop  \n",
       "4  02h 20m  6,015  non-stop  "
      ]
     },
     "execution_count": 10,
     "metadata": {},
     "output_type": "execute_result"
    }
   ],
   "source": [
    "df.head()"
   ]
  },
  {
   "cell_type": "code",
   "execution_count": 11,
   "id": "03bdca1a",
   "metadata": {
    "execution": {
     "iopub.execute_input": "2024-10-23T11:12:57.522860Z",
     "iopub.status.busy": "2024-10-23T11:12:57.521541Z",
     "iopub.status.idle": "2024-10-23T11:13:00.441905Z",
     "shell.execute_reply": "2024-10-23T11:13:00.440254Z"
    },
    "papermill": {
     "duration": 2.941153,
     "end_time": "2024-10-23T11:13:00.444830",
     "exception": false,
     "start_time": "2024-10-23T11:12:57.503677",
     "status": "completed"
    },
    "tags": []
   },
   "outputs": [],
   "source": [
    "df['Date']=df['flight date'].str.split('-').str[0]\n",
    "df['Month']=df['flight date'].str.split('-').str[1]\n",
    "df['Year']=df['flight date'].str.split('-').str[2]"
   ]
  },
  {
   "cell_type": "code",
   "execution_count": 12,
   "id": "7e19e7a2",
   "metadata": {
    "execution": {
     "iopub.execute_input": "2024-10-23T11:13:00.479922Z",
     "iopub.status.busy": "2024-10-23T11:13:00.479497Z",
     "iopub.status.idle": "2024-10-23T11:13:00.499880Z",
     "shell.execute_reply": "2024-10-23T11:13:00.498519Z"
    },
    "papermill": {
     "duration": 0.041081,
     "end_time": "2024-10-23T11:13:00.502499",
     "exception": false,
     "start_time": "2024-10-23T11:13:00.461418",
     "status": "completed"
    },
    "tags": []
   },
   "outputs": [
    {
     "data": {
      "text/html": [
       "<div>\n",
       "<style scoped>\n",
       "    .dataframe tbody tr th:only-of-type {\n",
       "        vertical-align: middle;\n",
       "    }\n",
       "\n",
       "    .dataframe tbody tr th {\n",
       "        vertical-align: top;\n",
       "    }\n",
       "\n",
       "    .dataframe thead th {\n",
       "        text-align: right;\n",
       "    }\n",
       "</style>\n",
       "<table border=\"1\" class=\"dataframe\">\n",
       "  <thead>\n",
       "    <tr style=\"text-align: right;\">\n",
       "      <th></th>\n",
       "      <th>flight date</th>\n",
       "      <th>airline</th>\n",
       "      <th>flight_num</th>\n",
       "      <th>class</th>\n",
       "      <th>from</th>\n",
       "      <th>dep_time</th>\n",
       "      <th>to</th>\n",
       "      <th>arr_time</th>\n",
       "      <th>duration</th>\n",
       "      <th>price</th>\n",
       "      <th>stops</th>\n",
       "      <th>Date</th>\n",
       "      <th>Month</th>\n",
       "      <th>Year</th>\n",
       "    </tr>\n",
       "  </thead>\n",
       "  <tbody>\n",
       "    <tr>\n",
       "      <th>0</th>\n",
       "      <td>26-06-2023</td>\n",
       "      <td>SpiceJet</td>\n",
       "      <td>SG-8709</td>\n",
       "      <td>economy</td>\n",
       "      <td>Delhi</td>\n",
       "      <td>18:55</td>\n",
       "      <td>Mumbai</td>\n",
       "      <td>21:05</td>\n",
       "      <td>02h 10m</td>\n",
       "      <td>6,013</td>\n",
       "      <td>non-stop</td>\n",
       "      <td>26</td>\n",
       "      <td>06</td>\n",
       "      <td>2023</td>\n",
       "    </tr>\n",
       "    <tr>\n",
       "      <th>1</th>\n",
       "      <td>26-06-2023</td>\n",
       "      <td>SpiceJet</td>\n",
       "      <td>SG-8157</td>\n",
       "      <td>economy</td>\n",
       "      <td>Delhi</td>\n",
       "      <td>06:20</td>\n",
       "      <td>Mumbai</td>\n",
       "      <td>08:40</td>\n",
       "      <td>02h 20m</td>\n",
       "      <td>6,013</td>\n",
       "      <td>non-stop</td>\n",
       "      <td>26</td>\n",
       "      <td>06</td>\n",
       "      <td>2023</td>\n",
       "    </tr>\n",
       "    <tr>\n",
       "      <th>2</th>\n",
       "      <td>26-06-2023</td>\n",
       "      <td>AirAsia</td>\n",
       "      <td>I5-764</td>\n",
       "      <td>economy</td>\n",
       "      <td>Delhi</td>\n",
       "      <td>04:25</td>\n",
       "      <td>Mumbai</td>\n",
       "      <td>06:35</td>\n",
       "      <td>02h 10m</td>\n",
       "      <td>6,016</td>\n",
       "      <td>non-stop</td>\n",
       "      <td>26</td>\n",
       "      <td>06</td>\n",
       "      <td>2023</td>\n",
       "    </tr>\n",
       "    <tr>\n",
       "      <th>3</th>\n",
       "      <td>26-06-2023</td>\n",
       "      <td>Vistara</td>\n",
       "      <td>UK-995</td>\n",
       "      <td>economy</td>\n",
       "      <td>Delhi</td>\n",
       "      <td>10:20</td>\n",
       "      <td>Mumbai</td>\n",
       "      <td>12:35</td>\n",
       "      <td>02h 15m</td>\n",
       "      <td>6,015</td>\n",
       "      <td>non-stop</td>\n",
       "      <td>26</td>\n",
       "      <td>06</td>\n",
       "      <td>2023</td>\n",
       "    </tr>\n",
       "    <tr>\n",
       "      <th>4</th>\n",
       "      <td>26-06-2023</td>\n",
       "      <td>Vistara</td>\n",
       "      <td>UK-963</td>\n",
       "      <td>economy</td>\n",
       "      <td>Delhi</td>\n",
       "      <td>08:50</td>\n",
       "      <td>Mumbai</td>\n",
       "      <td>11:10</td>\n",
       "      <td>02h 20m</td>\n",
       "      <td>6,015</td>\n",
       "      <td>non-stop</td>\n",
       "      <td>26</td>\n",
       "      <td>06</td>\n",
       "      <td>2023</td>\n",
       "    </tr>\n",
       "  </tbody>\n",
       "</table>\n",
       "</div>"
      ],
      "text/plain": [
       "  flight date   airline flight_num    class   from dep_time      to arr_time  \\\n",
       "0  26-06-2023  SpiceJet    SG-8709  economy  Delhi    18:55  Mumbai    21:05   \n",
       "1  26-06-2023  SpiceJet    SG-8157  economy  Delhi    06:20  Mumbai    08:40   \n",
       "2  26-06-2023   AirAsia     I5-764  economy  Delhi    04:25  Mumbai    06:35   \n",
       "3  26-06-2023   Vistara     UK-995  economy  Delhi    10:20  Mumbai    12:35   \n",
       "4  26-06-2023   Vistara     UK-963  economy  Delhi    08:50  Mumbai    11:10   \n",
       "\n",
       "  duration  price     stops Date Month  Year  \n",
       "0  02h 10m  6,013  non-stop   26    06  2023  \n",
       "1  02h 20m  6,013  non-stop   26    06  2023  \n",
       "2  02h 10m  6,016  non-stop   26    06  2023  \n",
       "3  02h 15m  6,015  non-stop   26    06  2023  \n",
       "4  02h 20m  6,015  non-stop   26    06  2023  "
      ]
     },
     "execution_count": 12,
     "metadata": {},
     "output_type": "execute_result"
    }
   ],
   "source": [
    "df.head()"
   ]
  },
  {
   "cell_type": "code",
   "execution_count": 13,
   "id": "6b218db3",
   "metadata": {
    "execution": {
     "iopub.execute_input": "2024-10-23T11:13:00.538658Z",
     "iopub.status.busy": "2024-10-23T11:13:00.538222Z",
     "iopub.status.idle": "2024-10-23T11:13:01.027779Z",
     "shell.execute_reply": "2024-10-23T11:13:01.026229Z"
    },
    "papermill": {
     "duration": 0.510458,
     "end_time": "2024-10-23T11:13:01.030375",
     "exception": false,
     "start_time": "2024-10-23T11:13:00.519917",
     "status": "completed"
    },
    "tags": []
   },
   "outputs": [
    {
     "name": "stdout",
     "output_type": "stream",
     "text": [
      "<class 'pandas.core.frame.DataFrame'>\n",
      "RangeIndex: 300261 entries, 0 to 300260\n",
      "Data columns (total 14 columns):\n",
      " #   Column       Non-Null Count   Dtype \n",
      "---  ------       --------------   ----- \n",
      " 0   flight date  300261 non-null  object\n",
      " 1   airline      300261 non-null  object\n",
      " 2   flight_num   300261 non-null  object\n",
      " 3   class        300261 non-null  object\n",
      " 4   from         300261 non-null  object\n",
      " 5   dep_time     300261 non-null  object\n",
      " 6   to           300261 non-null  object\n",
      " 7   arr_time     300261 non-null  object\n",
      " 8   duration     300261 non-null  object\n",
      " 9   price        300261 non-null  object\n",
      " 10  stops        300261 non-null  object\n",
      " 11  Date         300261 non-null  object\n",
      " 12  Month        300261 non-null  object\n",
      " 13  Year         300261 non-null  object\n",
      "dtypes: object(14)\n",
      "memory usage: 32.1+ MB\n"
     ]
    }
   ],
   "source": [
    "df.info()"
   ]
  },
  {
   "cell_type": "code",
   "execution_count": 14,
   "id": "c5c5bee2",
   "metadata": {
    "execution": {
     "iopub.execute_input": "2024-10-23T11:13:01.066794Z",
     "iopub.status.busy": "2024-10-23T11:13:01.066378Z",
     "iopub.status.idle": "2024-10-23T11:13:01.212884Z",
     "shell.execute_reply": "2024-10-23T11:13:01.211475Z"
    },
    "papermill": {
     "duration": 0.168502,
     "end_time": "2024-10-23T11:13:01.215828",
     "exception": false,
     "start_time": "2024-10-23T11:13:01.047326",
     "status": "completed"
    },
    "tags": []
   },
   "outputs": [],
   "source": [
    "df['Date']=df['Date'].astype(int)\n",
    "df['Month']=df['Month'].astype(int)\n",
    "df['Year']=df['Year'].astype(int)"
   ]
  },
  {
   "cell_type": "code",
   "execution_count": 15,
   "id": "97bea9c2",
   "metadata": {
    "execution": {
     "iopub.execute_input": "2024-10-23T11:13:01.252127Z",
     "iopub.status.busy": "2024-10-23T11:13:01.251589Z",
     "iopub.status.idle": "2024-10-23T11:13:01.304690Z",
     "shell.execute_reply": "2024-10-23T11:13:01.303455Z"
    },
    "papermill": {
     "duration": 0.075144,
     "end_time": "2024-10-23T11:13:01.307874",
     "exception": false,
     "start_time": "2024-10-23T11:13:01.232730",
     "status": "completed"
    },
    "tags": []
   },
   "outputs": [],
   "source": [
    "df.drop('flight date',axis=1,inplace=True)"
   ]
  },
  {
   "cell_type": "code",
   "execution_count": 16,
   "id": "00a31ac7",
   "metadata": {
    "execution": {
     "iopub.execute_input": "2024-10-23T11:13:01.344200Z",
     "iopub.status.busy": "2024-10-23T11:13:01.343723Z",
     "iopub.status.idle": "2024-10-23T11:13:01.379364Z",
     "shell.execute_reply": "2024-10-23T11:13:01.378207Z"
    },
    "papermill": {
     "duration": 0.056653,
     "end_time": "2024-10-23T11:13:01.382172",
     "exception": false,
     "start_time": "2024-10-23T11:13:01.325519",
     "status": "completed"
    },
    "tags": []
   },
   "outputs": [
    {
     "data": {
      "text/plain": [
       "array(['21:05', '08:40', '06:35', '12:35', '11:10', '14:00', '11:35',\n",
       "       '16:30', '10:10', '16:35', '17:15', '12:50', '09:25', '14:10',\n",
       "       '11:05', '09:05', '07:15', '11:20', '18:10', '20:20', '21:35',\n",
       "       '12:00', '17:40', '19:25', '22:05', '20:50', '14:05', '19:50',\n",
       "       '08:15', '13:45', '23:50', '10:35', '08:35', '15:00', '20:05',\n",
       "       '16:00', '15:50', '08:05', '13:35', '17:55', '22:25', '14:30',\n",
       "       '12:25', '13:00', '20:15', '21:50', '20:45', '23:00', '16:15',\n",
       "       '23:05', '21:15', '13:15', '23:30', '22:35', '11:25', '18:20',\n",
       "       '23:55', '11:40', '17:25', '17:50', '15:55', '09:35', '22:00',\n",
       "       '22:50', '21:55', '23:15', '21:10', '13:05', '20:00', '22:10',\n",
       "       '07:45', '18:00', '16:40', '12:30', '15:15', '19:15', '14:35',\n",
       "       '19:40', '08:25', '00:10', '17:30', '08:20', '15:45', '09:50',\n",
       "       '21:25', '15:05', '14:45', '07:25', '10:05', '14:15', '20:35',\n",
       "       '16:05', '18:50', '17:05', '08:10', '11:15', '23:25', '11:30',\n",
       "       '10:00', '16:25', '10:15', '09:00', '18:15', '07:55', '09:45',\n",
       "       '19:05', '07:40', '22:20', '01:45', '10:45', '18:30', '10:55',\n",
       "       '22:15', '09:20', '11:00', '07:20', '02:00', '15:35', '17:35',\n",
       "       '09:10', '00:40', '04:15', '04:10', '00:35', '02:25', '20:40',\n",
       "       '07:50', '08:50', '05:55', '15:20', '09:40', '13:25', '10:20',\n",
       "       '07:10', '15:40', '12:15', '23:40', '23:20', '10:30', '08:00',\n",
       "       '09:55', '08:55', '04:55', '13:10', '01:00', '05:45', '18:05',\n",
       "       '01:35', '09:15', '12:55', '11:45', '03:20', '00:15', '10:50',\n",
       "       '22:30', '06:55', '17:10', '18:55', '21:20', '14:40', '15:30',\n",
       "       '20:30', '16:55', '18:25', '13:55', '11:50', '17:00', '20:25',\n",
       "       '12:10', '15:25', '00:30', '12:20', '16:50', '18:45', '21:45',\n",
       "       '19:20', '14:55', '00:05', '17:45', '16:10', '14:20', '19:10',\n",
       "       '13:30', '19:35', '00:25', '22:45', '10:40', '22:40', '00:20',\n",
       "       '20:55', '19:00', '21:00', '13:20', '15:10', '01:50', '00:45',\n",
       "       '01:15', '07:35', '23:35', '19:30', '23:45', '00:50', '12:40',\n",
       "       '03:00', '06:15', '01:25', '02:35', '01:05', '05:25', '23:10',\n",
       "       '02:30', '06:20', '03:55', '09:30', '21:30', '10:25', '23:59',\n",
       "       '22:55', '07:05', '07:00', '05:20', '19:45', '19:55', '14:25',\n",
       "       '16:45', '18:35', '14:50', '12:05', '16:20', '05:10', '17:20',\n",
       "       '07:30', '18:40', '01:40', '01:30', '05:15', '06:05', '03:40',\n",
       "       '20:10', '11:55', '08:45', '06:45', '08:30', '13:50', '12:45',\n",
       "       '01:55', '01:10', '21:40', '02:05', '01:20', '13:40', '00:55',\n",
       "       '04:40', '02:10', '03:35', '05:50', '04:50', '02:20', '02:50',\n",
       "       '06:40', '06:10', '06:50', '06:30', '02:55', '02:15', '03:45'],\n",
       "      dtype=object)"
      ]
     },
     "execution_count": 16,
     "metadata": {},
     "output_type": "execute_result"
    }
   ],
   "source": [
    "df['arr_time'].unique()"
   ]
  },
  {
   "cell_type": "code",
   "execution_count": 17,
   "id": "efc00114",
   "metadata": {
    "execution": {
     "iopub.execute_input": "2024-10-23T11:13:01.418034Z",
     "iopub.status.busy": "2024-10-23T11:13:01.417616Z",
     "iopub.status.idle": "2024-10-23T11:13:03.176926Z",
     "shell.execute_reply": "2024-10-23T11:13:03.175716Z"
    },
    "papermill": {
     "duration": 1.780653,
     "end_time": "2024-10-23T11:13:03.179943",
     "exception": false,
     "start_time": "2024-10-23T11:13:01.399290",
     "status": "completed"
    },
    "tags": []
   },
   "outputs": [],
   "source": [
    "df['Arrival_hour']=df['arr_time'].str.split(':').str[0]\n",
    "df['Arrival_min']=df['arr_time'].str.split(':').str[1]\n"
   ]
  },
  {
   "cell_type": "code",
   "execution_count": 18,
   "id": "0344e86d",
   "metadata": {
    "execution": {
     "iopub.execute_input": "2024-10-23T11:13:03.216163Z",
     "iopub.status.busy": "2024-10-23T11:13:03.215701Z",
     "iopub.status.idle": "2024-10-23T11:13:03.265454Z",
     "shell.execute_reply": "2024-10-23T11:13:03.264238Z"
    },
    "papermill": {
     "duration": 0.071218,
     "end_time": "2024-10-23T11:13:03.268258",
     "exception": false,
     "start_time": "2024-10-23T11:13:03.197040",
     "status": "completed"
    },
    "tags": []
   },
   "outputs": [
    {
     "data": {
      "text/html": [
       "<div>\n",
       "<style scoped>\n",
       "    .dataframe tbody tr th:only-of-type {\n",
       "        vertical-align: middle;\n",
       "    }\n",
       "\n",
       "    .dataframe tbody tr th {\n",
       "        vertical-align: top;\n",
       "    }\n",
       "\n",
       "    .dataframe thead th {\n",
       "        text-align: right;\n",
       "    }\n",
       "</style>\n",
       "<table border=\"1\" class=\"dataframe\">\n",
       "  <thead>\n",
       "    <tr style=\"text-align: right;\">\n",
       "      <th></th>\n",
       "      <th>airline</th>\n",
       "      <th>flight_num</th>\n",
       "      <th>class</th>\n",
       "      <th>from</th>\n",
       "      <th>dep_time</th>\n",
       "      <th>to</th>\n",
       "      <th>arr_time</th>\n",
       "      <th>duration</th>\n",
       "      <th>price</th>\n",
       "      <th>stops</th>\n",
       "      <th>Date</th>\n",
       "      <th>Month</th>\n",
       "      <th>Year</th>\n",
       "      <th>Arrival_hour</th>\n",
       "      <th>Arrival_min</th>\n",
       "    </tr>\n",
       "  </thead>\n",
       "  <tbody>\n",
       "    <tr>\n",
       "      <th>0</th>\n",
       "      <td>SpiceJet</td>\n",
       "      <td>SG-8709</td>\n",
       "      <td>economy</td>\n",
       "      <td>Delhi</td>\n",
       "      <td>18:55</td>\n",
       "      <td>Mumbai</td>\n",
       "      <td>21:05</td>\n",
       "      <td>02h 10m</td>\n",
       "      <td>6,013</td>\n",
       "      <td>non-stop</td>\n",
       "      <td>26</td>\n",
       "      <td>6</td>\n",
       "      <td>2023</td>\n",
       "      <td>21</td>\n",
       "      <td>05</td>\n",
       "    </tr>\n",
       "    <tr>\n",
       "      <th>1</th>\n",
       "      <td>SpiceJet</td>\n",
       "      <td>SG-8157</td>\n",
       "      <td>economy</td>\n",
       "      <td>Delhi</td>\n",
       "      <td>06:20</td>\n",
       "      <td>Mumbai</td>\n",
       "      <td>08:40</td>\n",
       "      <td>02h 20m</td>\n",
       "      <td>6,013</td>\n",
       "      <td>non-stop</td>\n",
       "      <td>26</td>\n",
       "      <td>6</td>\n",
       "      <td>2023</td>\n",
       "      <td>08</td>\n",
       "      <td>40</td>\n",
       "    </tr>\n",
       "  </tbody>\n",
       "</table>\n",
       "</div>"
      ],
      "text/plain": [
       "    airline flight_num    class   from dep_time      to arr_time duration  \\\n",
       "0  SpiceJet    SG-8709  economy  Delhi    18:55  Mumbai    21:05  02h 10m   \n",
       "1  SpiceJet    SG-8157  economy  Delhi    06:20  Mumbai    08:40  02h 20m   \n",
       "\n",
       "   price     stops  Date  Month  Year Arrival_hour Arrival_min  \n",
       "0  6,013  non-stop    26      6  2023           21          05  \n",
       "1  6,013  non-stop    26      6  2023           08          40  "
      ]
     },
     "execution_count": 18,
     "metadata": {},
     "output_type": "execute_result"
    }
   ],
   "source": [
    "df.head(2)"
   ]
  },
  {
   "cell_type": "code",
   "execution_count": 19,
   "id": "0f908979",
   "metadata": {
    "execution": {
     "iopub.execute_input": "2024-10-23T11:13:03.305016Z",
     "iopub.status.busy": "2024-10-23T11:13:03.304570Z",
     "iopub.status.idle": "2024-10-23T11:13:03.374175Z",
     "shell.execute_reply": "2024-10-23T11:13:03.372836Z"
    },
    "papermill": {
     "duration": 0.09119,
     "end_time": "2024-10-23T11:13:03.376878",
     "exception": false,
     "start_time": "2024-10-23T11:13:03.285688",
     "status": "completed"
    },
    "tags": []
   },
   "outputs": [],
   "source": [
    "df.drop('arr_time',axis=1,inplace=True)"
   ]
  },
  {
   "cell_type": "code",
   "execution_count": 20,
   "id": "25858bb6",
   "metadata": {
    "execution": {
     "iopub.execute_input": "2024-10-23T11:13:03.413768Z",
     "iopub.status.busy": "2024-10-23T11:13:03.413308Z",
     "iopub.status.idle": "2024-10-23T11:13:03.432243Z",
     "shell.execute_reply": "2024-10-23T11:13:03.431029Z"
    },
    "papermill": {
     "duration": 0.040645,
     "end_time": "2024-10-23T11:13:03.434990",
     "exception": false,
     "start_time": "2024-10-23T11:13:03.394345",
     "status": "completed"
    },
    "tags": []
   },
   "outputs": [
    {
     "data": {
      "text/html": [
       "<div>\n",
       "<style scoped>\n",
       "    .dataframe tbody tr th:only-of-type {\n",
       "        vertical-align: middle;\n",
       "    }\n",
       "\n",
       "    .dataframe tbody tr th {\n",
       "        vertical-align: top;\n",
       "    }\n",
       "\n",
       "    .dataframe thead th {\n",
       "        text-align: right;\n",
       "    }\n",
       "</style>\n",
       "<table border=\"1\" class=\"dataframe\">\n",
       "  <thead>\n",
       "    <tr style=\"text-align: right;\">\n",
       "      <th></th>\n",
       "      <th>airline</th>\n",
       "      <th>flight_num</th>\n",
       "      <th>class</th>\n",
       "      <th>from</th>\n",
       "      <th>dep_time</th>\n",
       "      <th>to</th>\n",
       "      <th>duration</th>\n",
       "      <th>price</th>\n",
       "      <th>stops</th>\n",
       "      <th>Date</th>\n",
       "      <th>Month</th>\n",
       "      <th>Year</th>\n",
       "      <th>Arrival_hour</th>\n",
       "      <th>Arrival_min</th>\n",
       "    </tr>\n",
       "  </thead>\n",
       "  <tbody>\n",
       "    <tr>\n",
       "      <th>0</th>\n",
       "      <td>SpiceJet</td>\n",
       "      <td>SG-8709</td>\n",
       "      <td>economy</td>\n",
       "      <td>Delhi</td>\n",
       "      <td>18:55</td>\n",
       "      <td>Mumbai</td>\n",
       "      <td>02h 10m</td>\n",
       "      <td>6,013</td>\n",
       "      <td>non-stop</td>\n",
       "      <td>26</td>\n",
       "      <td>6</td>\n",
       "      <td>2023</td>\n",
       "      <td>21</td>\n",
       "      <td>05</td>\n",
       "    </tr>\n",
       "    <tr>\n",
       "      <th>1</th>\n",
       "      <td>SpiceJet</td>\n",
       "      <td>SG-8157</td>\n",
       "      <td>economy</td>\n",
       "      <td>Delhi</td>\n",
       "      <td>06:20</td>\n",
       "      <td>Mumbai</td>\n",
       "      <td>02h 20m</td>\n",
       "      <td>6,013</td>\n",
       "      <td>non-stop</td>\n",
       "      <td>26</td>\n",
       "      <td>6</td>\n",
       "      <td>2023</td>\n",
       "      <td>08</td>\n",
       "      <td>40</td>\n",
       "    </tr>\n",
       "  </tbody>\n",
       "</table>\n",
       "</div>"
      ],
      "text/plain": [
       "    airline flight_num    class   from dep_time      to duration  price  \\\n",
       "0  SpiceJet    SG-8709  economy  Delhi    18:55  Mumbai  02h 10m  6,013   \n",
       "1  SpiceJet    SG-8157  economy  Delhi    06:20  Mumbai  02h 20m  6,013   \n",
       "\n",
       "      stops  Date  Month  Year Arrival_hour Arrival_min  \n",
       "0  non-stop    26      6  2023           21          05  \n",
       "1  non-stop    26      6  2023           08          40  "
      ]
     },
     "execution_count": 20,
     "metadata": {},
     "output_type": "execute_result"
    }
   ],
   "source": [
    "df.head(2)"
   ]
  },
  {
   "cell_type": "code",
   "execution_count": 21,
   "id": "368ba5f3",
   "metadata": {
    "execution": {
     "iopub.execute_input": "2024-10-23T11:13:03.473393Z",
     "iopub.status.busy": "2024-10-23T11:13:03.472921Z",
     "iopub.status.idle": "2024-10-23T11:13:05.448098Z",
     "shell.execute_reply": "2024-10-23T11:13:05.446761Z"
    },
    "papermill": {
     "duration": 1.997386,
     "end_time": "2024-10-23T11:13:05.450901",
     "exception": false,
     "start_time": "2024-10-23T11:13:03.453515",
     "status": "completed"
    },
    "tags": []
   },
   "outputs": [],
   "source": [
    "df['Dep_hour']=df['dep_time'].str.split(':').str[0]\n",
    "df['Dep_min']=df['dep_time'].str.split(':').str[1]"
   ]
  },
  {
   "cell_type": "code",
   "execution_count": 22,
   "id": "ca87ed0b",
   "metadata": {
    "execution": {
     "iopub.execute_input": "2024-10-23T11:13:05.489124Z",
     "iopub.status.busy": "2024-10-23T11:13:05.488684Z",
     "iopub.status.idle": "2024-10-23T11:13:05.622569Z",
     "shell.execute_reply": "2024-10-23T11:13:05.621092Z"
    },
    "papermill": {
     "duration": 0.156106,
     "end_time": "2024-10-23T11:13:05.625353",
     "exception": false,
     "start_time": "2024-10-23T11:13:05.469247",
     "status": "completed"
    },
    "tags": []
   },
   "outputs": [],
   "source": [
    "df['Dep_hour']=df['Dep_hour'].astype(int)\n",
    "df['Dep_min']=df['Dep_min'].astype(int)"
   ]
  },
  {
   "cell_type": "code",
   "execution_count": 23,
   "id": "078a0b3b",
   "metadata": {
    "execution": {
     "iopub.execute_input": "2024-10-23T11:13:05.662894Z",
     "iopub.status.busy": "2024-10-23T11:13:05.661949Z",
     "iopub.status.idle": "2024-10-23T11:13:05.716116Z",
     "shell.execute_reply": "2024-10-23T11:13:05.714985Z"
    },
    "papermill": {
     "duration": 0.075776,
     "end_time": "2024-10-23T11:13:05.718807",
     "exception": false,
     "start_time": "2024-10-23T11:13:05.643031",
     "status": "completed"
    },
    "tags": []
   },
   "outputs": [
    {
     "data": {
      "text/html": [
       "<div>\n",
       "<style scoped>\n",
       "    .dataframe tbody tr th:only-of-type {\n",
       "        vertical-align: middle;\n",
       "    }\n",
       "\n",
       "    .dataframe tbody tr th {\n",
       "        vertical-align: top;\n",
       "    }\n",
       "\n",
       "    .dataframe thead th {\n",
       "        text-align: right;\n",
       "    }\n",
       "</style>\n",
       "<table border=\"1\" class=\"dataframe\">\n",
       "  <thead>\n",
       "    <tr style=\"text-align: right;\">\n",
       "      <th></th>\n",
       "      <th>airline</th>\n",
       "      <th>flight_num</th>\n",
       "      <th>class</th>\n",
       "      <th>from</th>\n",
       "      <th>dep_time</th>\n",
       "      <th>to</th>\n",
       "      <th>duration</th>\n",
       "      <th>price</th>\n",
       "      <th>stops</th>\n",
       "      <th>Date</th>\n",
       "      <th>Month</th>\n",
       "      <th>Year</th>\n",
       "      <th>Arrival_hour</th>\n",
       "      <th>Arrival_min</th>\n",
       "      <th>Dep_hour</th>\n",
       "      <th>Dep_min</th>\n",
       "    </tr>\n",
       "  </thead>\n",
       "  <tbody>\n",
       "    <tr>\n",
       "      <th>0</th>\n",
       "      <td>SpiceJet</td>\n",
       "      <td>SG-8709</td>\n",
       "      <td>economy</td>\n",
       "      <td>Delhi</td>\n",
       "      <td>18:55</td>\n",
       "      <td>Mumbai</td>\n",
       "      <td>02h 10m</td>\n",
       "      <td>6,013</td>\n",
       "      <td>non-stop</td>\n",
       "      <td>26</td>\n",
       "      <td>6</td>\n",
       "      <td>2023</td>\n",
       "      <td>21</td>\n",
       "      <td>05</td>\n",
       "      <td>18</td>\n",
       "      <td>55</td>\n",
       "    </tr>\n",
       "    <tr>\n",
       "      <th>1</th>\n",
       "      <td>SpiceJet</td>\n",
       "      <td>SG-8157</td>\n",
       "      <td>economy</td>\n",
       "      <td>Delhi</td>\n",
       "      <td>06:20</td>\n",
       "      <td>Mumbai</td>\n",
       "      <td>02h 20m</td>\n",
       "      <td>6,013</td>\n",
       "      <td>non-stop</td>\n",
       "      <td>26</td>\n",
       "      <td>6</td>\n",
       "      <td>2023</td>\n",
       "      <td>08</td>\n",
       "      <td>40</td>\n",
       "      <td>6</td>\n",
       "      <td>20</td>\n",
       "    </tr>\n",
       "  </tbody>\n",
       "</table>\n",
       "</div>"
      ],
      "text/plain": [
       "    airline flight_num    class   from dep_time      to duration  price  \\\n",
       "0  SpiceJet    SG-8709  economy  Delhi    18:55  Mumbai  02h 10m  6,013   \n",
       "1  SpiceJet    SG-8157  economy  Delhi    06:20  Mumbai  02h 20m  6,013   \n",
       "\n",
       "      stops  Date  Month  Year Arrival_hour Arrival_min  Dep_hour  Dep_min  \n",
       "0  non-stop    26      6  2023           21          05        18       55  \n",
       "1  non-stop    26      6  2023           08          40         6       20  "
      ]
     },
     "execution_count": 23,
     "metadata": {},
     "output_type": "execute_result"
    }
   ],
   "source": [
    "df.head(2)"
   ]
  },
  {
   "cell_type": "code",
   "execution_count": 24,
   "id": "694b1414",
   "metadata": {
    "execution": {
     "iopub.execute_input": "2024-10-23T11:13:05.758353Z",
     "iopub.status.busy": "2024-10-23T11:13:05.757910Z",
     "iopub.status.idle": "2024-10-23T11:13:05.825257Z",
     "shell.execute_reply": "2024-10-23T11:13:05.824049Z"
    },
    "papermill": {
     "duration": 0.090049,
     "end_time": "2024-10-23T11:13:05.828178",
     "exception": false,
     "start_time": "2024-10-23T11:13:05.738129",
     "status": "completed"
    },
    "tags": []
   },
   "outputs": [],
   "source": [
    "df.drop(\"dep_time\",axis=1,inplace=True)"
   ]
  },
  {
   "cell_type": "code",
   "execution_count": 25,
   "id": "8923b2e6",
   "metadata": {
    "execution": {
     "iopub.execute_input": "2024-10-23T11:13:05.865698Z",
     "iopub.status.busy": "2024-10-23T11:13:05.865250Z",
     "iopub.status.idle": "2024-10-23T11:13:05.900885Z",
     "shell.execute_reply": "2024-10-23T11:13:05.899688Z"
    },
    "papermill": {
     "duration": 0.057885,
     "end_time": "2024-10-23T11:13:05.903934",
     "exception": false,
     "start_time": "2024-10-23T11:13:05.846049",
     "status": "completed"
    },
    "tags": []
   },
   "outputs": [
    {
     "data": {
      "text/plain": [
       "array(['non-stop', '1-stop',\n",
       "       '1-stop\\n\\t\\t\\t\\t\\t\\t\\t\\t\\t\\t\\t\\tVia IXU\\n\\t\\t\\t\\t\\t\\t\\t\\t\\t\\t\\t\\t',\n",
       "       '1-stop\\n\\t\\t\\t\\t\\t\\t\\t\\t\\t\\t\\t\\tVia Chennai\\n\\t\\t\\t\\t\\t\\t\\t\\t\\t\\t\\t\\t',\n",
       "       '1-stop\\n\\t\\t\\t\\t\\t\\t\\t\\t\\t\\t\\t\\tVia Indore\\n\\t\\t\\t\\t\\t\\t\\t\\t\\t\\t\\t\\t',\n",
       "       '1-stop\\n\\t\\t\\t\\t\\t\\t\\t\\t\\t\\t\\t\\tVia RPR\\n\\t\\t\\t\\t\\t\\t\\t\\t\\t\\t\\t\\t',\n",
       "       '2+-stop',\n",
       "       '1-stop\\n\\t\\t\\t\\t\\t\\t\\t\\t\\t\\t\\t\\tVia Lucknow\\n\\t\\t\\t\\t\\t\\t\\t\\t\\t\\t\\t\\t',\n",
       "       '1-stop\\n\\t\\t\\t\\t\\t\\t\\t\\t\\t\\t\\t\\tVia GOP\\n\\t\\t\\t\\t\\t\\t\\t\\t\\t\\t\\t\\t',\n",
       "       '1-stop\\n\\t\\t\\t\\t\\t\\t\\t\\t\\t\\t\\t\\tVia Raipur\\n\\t\\t\\t\\t\\t\\t\\t\\t\\t\\t\\t\\t',\n",
       "       '1-stop\\n\\t\\t\\t\\t\\t\\t\\t\\t\\t\\t\\t\\tVia Nagpur\\n\\t\\t\\t\\t\\t\\t\\t\\t\\t\\t\\t\\t',\n",
       "       '1-stop\\n\\t\\t\\t\\t\\t\\t\\t\\t\\t\\t\\t\\tVia Surat\\n\\t\\t\\t\\t\\t\\t\\t\\t\\t\\t\\t\\t',\n",
       "       '1-stop\\n\\t\\t\\t\\t\\t\\t\\t\\t\\t\\t\\t\\tVia Hyderabad\\n\\t\\t\\t\\t\\t\\t\\t\\t\\t\\t\\t\\t',\n",
       "       '1-stop\\n\\t\\t\\t\\t\\t\\t\\t\\t\\t\\t\\t\\tVia STV\\n\\t\\t\\t\\t\\t\\t\\t\\t\\t\\t\\t\\t',\n",
       "       '1-stop\\n\\t\\t\\t\\t\\t\\t\\t\\t\\t\\t\\t\\tVia IDR\\n\\t\\t\\t\\t\\t\\t\\t\\t\\t\\t\\t\\t',\n",
       "       '1-stop\\n\\t\\t\\t\\t\\t\\t\\t\\t\\t\\t\\t\\tVia VTZ\\n\\t\\t\\t\\t\\t\\t\\t\\t\\t\\t\\t\\t',\n",
       "       '1-stop\\n\\t\\t\\t\\t\\t\\t\\t\\t\\t\\t\\t\\tVia Guwahati\\n\\t\\t\\t\\t\\t\\t\\t\\t\\t\\t\\t\\t',\n",
       "       '1-stop\\n\\t\\t\\t\\t\\t\\t\\t\\t\\t\\t\\t\\tVia NAG\\n\\t\\t\\t\\t\\t\\t\\t\\t\\t\\t\\t\\t',\n",
       "       '1-stop\\n\\t\\t\\t\\t\\t\\t\\t\\t\\t\\t\\t\\tVia Vishakhapatnam\\n\\t\\t\\t\\t\\t\\t\\t\\t\\t\\t\\t\\t',\n",
       "       '1-stop\\n\\t\\t\\t\\t\\t\\t\\t\\t\\t\\t\\t\\tVia NDC\\n\\t\\t\\t\\t\\t\\t\\t\\t\\t\\t\\t\\t',\n",
       "       '1-stop\\n\\t\\t\\t\\t\\t\\t\\t\\t\\t\\t\\t\\tVia IXE\\n\\t\\t\\t\\t\\t\\t\\t\\t\\t\\t\\t\\t',\n",
       "       '1-stop\\n\\t\\t\\t\\t\\t\\t\\t\\t\\t\\t\\t\\tVia Patna\\n\\t\\t\\t\\t\\t\\t\\t\\t\\t\\t\\t\\t',\n",
       "       '1-stop\\n\\t\\t\\t\\t\\t\\t\\t\\t\\t\\t\\t\\tVia PAT\\n\\t\\t\\t\\t\\t\\t\\t\\t\\t\\t\\t\\t',\n",
       "       '1-stop\\n\\t\\t\\t\\t\\t\\t\\t\\t\\t\\t\\t\\tVia Mangalore\\n\\t\\t\\t\\t\\t\\t\\t\\t\\t\\t\\t\\t',\n",
       "       '1-stop\\n\\t\\t\\t\\t\\t\\t\\t\\t\\t\\t\\t\\tVia Mumbai\\n\\t\\t\\t\\t\\t\\t\\t\\t\\t\\t\\t\\t',\n",
       "       '1-stop\\n\\t\\t\\t\\t\\t\\t\\t\\t\\t\\t\\t\\tVia KLH\\n\\t\\t\\t\\t\\t\\t\\t\\t\\t\\t\\t\\t',\n",
       "       '1-stop\\n\\t\\t\\t\\t\\t\\t\\t\\t\\t\\t\\t\\tVia MYQ\\n\\t\\t\\t\\t\\t\\t\\t\\t\\t\\t\\t\\t',\n",
       "       '1-stop\\n\\t\\t\\t\\t\\t\\t\\t\\t\\t\\t\\t\\tVia Kolkata\\n\\t\\t\\t\\t\\t\\t\\t\\t\\t\\t\\t\\t',\n",
       "       '1-stop\\n\\t\\t\\t\\t\\t\\t\\t\\t\\t\\t\\t\\tVia Delhi\\n\\t\\t\\t\\t\\t\\t\\t\\t\\t\\t\\t\\t',\n",
       "       '1-stop\\n\\t\\t\\t\\t\\t\\t\\t\\t\\t\\t\\t\\tVia Kolhapur\\n\\t\\t\\t\\t\\t\\t\\t\\t\\t\\t\\t\\t',\n",
       "       '1-stop\\n\\t\\t\\t\\t\\t\\t\\t\\t\\t\\t\\t\\tVia JRG\\n\\t\\t\\t\\t\\t\\t\\t\\t\\t\\t\\t\\t',\n",
       "       '1-stop\\n\\t\\t\\t\\t\\t\\t\\t\\t\\t\\t\\t\\tVia Bhubaneswar\\n\\t\\t\\t\\t\\t\\t\\t\\t\\t\\t\\t\\t',\n",
       "       '1-stop\\n\\t\\t\\t\\t\\t\\t\\t\\t\\t\\t\\t\\tVia Ranchi\\n\\t\\t\\t\\t\\t\\t\\t\\t\\t\\t\\t\\t',\n",
       "       '1-stop\\n\\t\\t\\t\\t\\t\\t\\t\\t\\t\\t\\t\\tVia IXR\\n\\t\\t\\t\\t\\t\\t\\t\\t\\t\\t\\t\\t',\n",
       "       '1-stop\\n\\t\\t\\t\\t\\t\\t\\t\\t\\t\\t\\t\\tVia JGB\\n\\t\\t\\t\\t\\t\\t\\t\\t\\t\\t\\t\\t',\n",
       "       '1-stop\\n\\t\\t\\t\\t\\t\\t\\t\\t\\t\\t\\t\\tVia BBI\\n\\t\\t\\t\\t\\t\\t\\t\\t\\t\\t\\t\\t',\n",
       "       '1-stop\\n\\t\\t\\t\\t\\t\\t\\t\\t\\t\\t\\t\\tVia Mysore\\n\\t\\t\\t\\t\\t\\t\\t\\t\\t\\t\\t\\t',\n",
       "       '1-stop\\n\\t\\t\\t\\t\\t\\t\\t\\t\\t\\t\\t\\tVia GAY\\n\\t\\t\\t\\t\\t\\t\\t\\t\\t\\t\\t\\t',\n",
       "       '1-stop\\n\\t\\t\\t\\t\\t\\t\\t\\t\\t\\t\\t\\tVia GAU\\n\\t\\t\\t\\t\\t\\t\\t\\t\\t\\t\\t\\t',\n",
       "       '1-stop\\n\\t\\t\\t\\t\\t\\t\\t\\t\\t\\t\\t\\tVia HYD\\n\\t\\t\\t\\t\\t\\t\\t\\t\\t\\t\\t\\t'],\n",
       "      dtype=object)"
      ]
     },
     "execution_count": 25,
     "metadata": {},
     "output_type": "execute_result"
    }
   ],
   "source": [
    "df['stops'].unique()"
   ]
  },
  {
   "cell_type": "code",
   "execution_count": 26,
   "id": "adc2ceb9",
   "metadata": {
    "execution": {
     "iopub.execute_input": "2024-10-23T11:13:05.942727Z",
     "iopub.status.busy": "2024-10-23T11:13:05.942277Z",
     "iopub.status.idle": "2024-10-23T11:13:05.992845Z",
     "shell.execute_reply": "2024-10-23T11:13:05.991354Z"
    },
    "papermill": {
     "duration": 0.073402,
     "end_time": "2024-10-23T11:13:05.995644",
     "exception": false,
     "start_time": "2024-10-23T11:13:05.922242",
     "status": "completed"
    },
    "tags": []
   },
   "outputs": [
    {
     "data": {
      "text/html": [
       "<div>\n",
       "<style scoped>\n",
       "    .dataframe tbody tr th:only-of-type {\n",
       "        vertical-align: middle;\n",
       "    }\n",
       "\n",
       "    .dataframe tbody tr th {\n",
       "        vertical-align: top;\n",
       "    }\n",
       "\n",
       "    .dataframe thead th {\n",
       "        text-align: right;\n",
       "    }\n",
       "</style>\n",
       "<table border=\"1\" class=\"dataframe\">\n",
       "  <thead>\n",
       "    <tr style=\"text-align: right;\">\n",
       "      <th></th>\n",
       "      <th>airline</th>\n",
       "      <th>flight_num</th>\n",
       "      <th>class</th>\n",
       "      <th>from</th>\n",
       "      <th>to</th>\n",
       "      <th>duration</th>\n",
       "      <th>price</th>\n",
       "      <th>stops</th>\n",
       "      <th>Date</th>\n",
       "      <th>Month</th>\n",
       "      <th>Year</th>\n",
       "      <th>Arrival_hour</th>\n",
       "      <th>Arrival_min</th>\n",
       "      <th>Dep_hour</th>\n",
       "      <th>Dep_min</th>\n",
       "    </tr>\n",
       "  </thead>\n",
       "  <tbody>\n",
       "  </tbody>\n",
       "</table>\n",
       "</div>"
      ],
      "text/plain": [
       "Empty DataFrame\n",
       "Columns: [airline, flight_num, class, from, to, duration, price, stops, Date, Month, Year, Arrival_hour, Arrival_min, Dep_hour, Dep_min]\n",
       "Index: []"
      ]
     },
     "execution_count": 26,
     "metadata": {},
     "output_type": "execute_result"
    }
   ],
   "source": [
    "df[df['stops'].isnull()]"
   ]
  },
  {
   "cell_type": "markdown",
   "id": "64ed885a",
   "metadata": {
    "papermill": {
     "duration": 0.018156,
     "end_time": "2024-10-23T11:13:06.032981",
     "exception": false,
     "start_time": "2024-10-23T11:13:06.014825",
     "status": "completed"
    },
    "tags": []
   },
   "source": [
    "No null values"
   ]
  },
  {
   "cell_type": "code",
   "execution_count": 27,
   "id": "05eb7d16",
   "metadata": {
    "execution": {
     "iopub.execute_input": "2024-10-23T11:13:06.072008Z",
     "iopub.status.busy": "2024-10-23T11:13:06.071579Z",
     "iopub.status.idle": "2024-10-23T11:13:06.116313Z",
     "shell.execute_reply": "2024-10-23T11:13:06.115087Z"
    },
    "papermill": {
     "duration": 0.067621,
     "end_time": "2024-10-23T11:13:06.119097",
     "exception": false,
     "start_time": "2024-10-23T11:13:06.051476",
     "status": "completed"
    },
    "tags": []
   },
   "outputs": [],
   "source": [
    "df['stops']=df['stops'].map({'non-stop':0,'1-stop':1,'2+-stop':2})"
   ]
  },
  {
   "cell_type": "code",
   "execution_count": 28,
   "id": "2fed2b9a",
   "metadata": {
    "execution": {
     "iopub.execute_input": "2024-10-23T11:13:06.157795Z",
     "iopub.status.busy": "2024-10-23T11:13:06.157366Z",
     "iopub.status.idle": "2024-10-23T11:13:06.176376Z",
     "shell.execute_reply": "2024-10-23T11:13:06.175053Z"
    },
    "papermill": {
     "duration": 0.041262,
     "end_time": "2024-10-23T11:13:06.178831",
     "exception": false,
     "start_time": "2024-10-23T11:13:06.137569",
     "status": "completed"
    },
    "tags": []
   },
   "outputs": [
    {
     "data": {
      "text/html": [
       "<div>\n",
       "<style scoped>\n",
       "    .dataframe tbody tr th:only-of-type {\n",
       "        vertical-align: middle;\n",
       "    }\n",
       "\n",
       "    .dataframe tbody tr th {\n",
       "        vertical-align: top;\n",
       "    }\n",
       "\n",
       "    .dataframe thead th {\n",
       "        text-align: right;\n",
       "    }\n",
       "</style>\n",
       "<table border=\"1\" class=\"dataframe\">\n",
       "  <thead>\n",
       "    <tr style=\"text-align: right;\">\n",
       "      <th></th>\n",
       "      <th>airline</th>\n",
       "      <th>flight_num</th>\n",
       "      <th>class</th>\n",
       "      <th>from</th>\n",
       "      <th>to</th>\n",
       "      <th>duration</th>\n",
       "      <th>price</th>\n",
       "      <th>stops</th>\n",
       "      <th>Date</th>\n",
       "      <th>Month</th>\n",
       "      <th>Year</th>\n",
       "      <th>Arrival_hour</th>\n",
       "      <th>Arrival_min</th>\n",
       "      <th>Dep_hour</th>\n",
       "      <th>Dep_min</th>\n",
       "    </tr>\n",
       "  </thead>\n",
       "  <tbody>\n",
       "    <tr>\n",
       "      <th>0</th>\n",
       "      <td>SpiceJet</td>\n",
       "      <td>SG-8709</td>\n",
       "      <td>economy</td>\n",
       "      <td>Delhi</td>\n",
       "      <td>Mumbai</td>\n",
       "      <td>02h 10m</td>\n",
       "      <td>6,013</td>\n",
       "      <td>0.0</td>\n",
       "      <td>26</td>\n",
       "      <td>6</td>\n",
       "      <td>2023</td>\n",
       "      <td>21</td>\n",
       "      <td>05</td>\n",
       "      <td>18</td>\n",
       "      <td>55</td>\n",
       "    </tr>\n",
       "    <tr>\n",
       "      <th>1</th>\n",
       "      <td>SpiceJet</td>\n",
       "      <td>SG-8157</td>\n",
       "      <td>economy</td>\n",
       "      <td>Delhi</td>\n",
       "      <td>Mumbai</td>\n",
       "      <td>02h 20m</td>\n",
       "      <td>6,013</td>\n",
       "      <td>0.0</td>\n",
       "      <td>26</td>\n",
       "      <td>6</td>\n",
       "      <td>2023</td>\n",
       "      <td>08</td>\n",
       "      <td>40</td>\n",
       "      <td>6</td>\n",
       "      <td>20</td>\n",
       "    </tr>\n",
       "  </tbody>\n",
       "</table>\n",
       "</div>"
      ],
      "text/plain": [
       "    airline flight_num    class   from      to duration  price  stops  Date  \\\n",
       "0  SpiceJet    SG-8709  economy  Delhi  Mumbai  02h 10m  6,013    0.0    26   \n",
       "1  SpiceJet    SG-8157  economy  Delhi  Mumbai  02h 20m  6,013    0.0    26   \n",
       "\n",
       "   Month  Year Arrival_hour Arrival_min  Dep_hour  Dep_min  \n",
       "0      6  2023           21          05        18       55  \n",
       "1      6  2023           08          40         6       20  "
      ]
     },
     "execution_count": 28,
     "metadata": {},
     "output_type": "execute_result"
    }
   ],
   "source": [
    "df.head(2)"
   ]
  },
  {
   "cell_type": "code",
   "execution_count": 29,
   "id": "e9d6d605",
   "metadata": {
    "execution": {
     "iopub.execute_input": "2024-10-23T11:13:06.218127Z",
     "iopub.status.busy": "2024-10-23T11:13:06.217652Z",
     "iopub.status.idle": "2024-10-23T11:13:08.156750Z",
     "shell.execute_reply": "2024-10-23T11:13:08.155525Z"
    },
    "papermill": {
     "duration": 1.962169,
     "end_time": "2024-10-23T11:13:08.159663",
     "exception": false,
     "start_time": "2024-10-23T11:13:06.197494",
     "status": "completed"
    },
    "tags": []
   },
   "outputs": [],
   "source": [
    "df['Duration_hour']=df['duration'].str.split(' ').str[0].str.split('h').str[0]\n"
   ]
  },
  {
   "cell_type": "code",
   "execution_count": 30,
   "id": "4b8b0aaf",
   "metadata": {
    "execution": {
     "iopub.execute_input": "2024-10-23T11:13:08.201256Z",
     "iopub.status.busy": "2024-10-23T11:13:08.200777Z",
     "iopub.status.idle": "2024-10-23T11:13:10.107241Z",
     "shell.execute_reply": "2024-10-23T11:13:10.105866Z"
    },
    "papermill": {
     "duration": 1.931355,
     "end_time": "2024-10-23T11:13:10.110212",
     "exception": false,
     "start_time": "2024-10-23T11:13:08.178857",
     "status": "completed"
    },
    "tags": []
   },
   "outputs": [],
   "source": [
    "df['Duration_minute']=df['duration'].str.split(' ').str[1].str.split('m').str[0]\n"
   ]
  },
  {
   "cell_type": "code",
   "execution_count": 31,
   "id": "7ec1aa9f",
   "metadata": {
    "execution": {
     "iopub.execute_input": "2024-10-23T11:13:10.149532Z",
     "iopub.status.busy": "2024-10-23T11:13:10.149072Z",
     "iopub.status.idle": "2024-10-23T11:13:10.169523Z",
     "shell.execute_reply": "2024-10-23T11:13:10.168207Z"
    },
    "papermill": {
     "duration": 0.043141,
     "end_time": "2024-10-23T11:13:10.172024",
     "exception": false,
     "start_time": "2024-10-23T11:13:10.128883",
     "status": "completed"
    },
    "tags": []
   },
   "outputs": [
    {
     "data": {
      "text/html": [
       "<div>\n",
       "<style scoped>\n",
       "    .dataframe tbody tr th:only-of-type {\n",
       "        vertical-align: middle;\n",
       "    }\n",
       "\n",
       "    .dataframe tbody tr th {\n",
       "        vertical-align: top;\n",
       "    }\n",
       "\n",
       "    .dataframe thead th {\n",
       "        text-align: right;\n",
       "    }\n",
       "</style>\n",
       "<table border=\"1\" class=\"dataframe\">\n",
       "  <thead>\n",
       "    <tr style=\"text-align: right;\">\n",
       "      <th></th>\n",
       "      <th>airline</th>\n",
       "      <th>flight_num</th>\n",
       "      <th>class</th>\n",
       "      <th>from</th>\n",
       "      <th>to</th>\n",
       "      <th>duration</th>\n",
       "      <th>price</th>\n",
       "      <th>stops</th>\n",
       "      <th>Date</th>\n",
       "      <th>Month</th>\n",
       "      <th>Year</th>\n",
       "      <th>Arrival_hour</th>\n",
       "      <th>Arrival_min</th>\n",
       "      <th>Dep_hour</th>\n",
       "      <th>Dep_min</th>\n",
       "      <th>Duration_hour</th>\n",
       "      <th>Duration_minute</th>\n",
       "    </tr>\n",
       "  </thead>\n",
       "  <tbody>\n",
       "    <tr>\n",
       "      <th>0</th>\n",
       "      <td>SpiceJet</td>\n",
       "      <td>SG-8709</td>\n",
       "      <td>economy</td>\n",
       "      <td>Delhi</td>\n",
       "      <td>Mumbai</td>\n",
       "      <td>02h 10m</td>\n",
       "      <td>6,013</td>\n",
       "      <td>0.0</td>\n",
       "      <td>26</td>\n",
       "      <td>6</td>\n",
       "      <td>2023</td>\n",
       "      <td>21</td>\n",
       "      <td>05</td>\n",
       "      <td>18</td>\n",
       "      <td>55</td>\n",
       "      <td>02</td>\n",
       "      <td>10</td>\n",
       "    </tr>\n",
       "    <tr>\n",
       "      <th>1</th>\n",
       "      <td>SpiceJet</td>\n",
       "      <td>SG-8157</td>\n",
       "      <td>economy</td>\n",
       "      <td>Delhi</td>\n",
       "      <td>Mumbai</td>\n",
       "      <td>02h 20m</td>\n",
       "      <td>6,013</td>\n",
       "      <td>0.0</td>\n",
       "      <td>26</td>\n",
       "      <td>6</td>\n",
       "      <td>2023</td>\n",
       "      <td>08</td>\n",
       "      <td>40</td>\n",
       "      <td>6</td>\n",
       "      <td>20</td>\n",
       "      <td>02</td>\n",
       "      <td>20</td>\n",
       "    </tr>\n",
       "  </tbody>\n",
       "</table>\n",
       "</div>"
      ],
      "text/plain": [
       "    airline flight_num    class   from      to duration  price  stops  Date  \\\n",
       "0  SpiceJet    SG-8709  economy  Delhi  Mumbai  02h 10m  6,013    0.0    26   \n",
       "1  SpiceJet    SG-8157  economy  Delhi  Mumbai  02h 20m  6,013    0.0    26   \n",
       "\n",
       "   Month  Year Arrival_hour Arrival_min  Dep_hour  Dep_min Duration_hour  \\\n",
       "0      6  2023           21          05        18       55            02   \n",
       "1      6  2023           08          40         6       20            02   \n",
       "\n",
       "  Duration_minute  \n",
       "0              10  \n",
       "1              20  "
      ]
     },
     "execution_count": 31,
     "metadata": {},
     "output_type": "execute_result"
    }
   ],
   "source": [
    "df.head(2)"
   ]
  },
  {
   "cell_type": "code",
   "execution_count": 32,
   "id": "7a00b870",
   "metadata": {
    "execution": {
     "iopub.execute_input": "2024-10-23T11:13:10.211992Z",
     "iopub.status.busy": "2024-10-23T11:13:10.211527Z",
     "iopub.status.idle": "2024-10-23T11:13:10.306155Z",
     "shell.execute_reply": "2024-10-23T11:13:10.304999Z"
    },
    "papermill": {
     "duration": 0.117816,
     "end_time": "2024-10-23T11:13:10.308920",
     "exception": false,
     "start_time": "2024-10-23T11:13:10.191104",
     "status": "completed"
    },
    "tags": []
   },
   "outputs": [],
   "source": [
    "df.drop(\"duration\",axis=1,inplace=True)"
   ]
  },
  {
   "cell_type": "code",
   "execution_count": 33,
   "id": "90f27868",
   "metadata": {
    "execution": {
     "iopub.execute_input": "2024-10-23T11:13:10.349238Z",
     "iopub.status.busy": "2024-10-23T11:13:10.348232Z",
     "iopub.status.idle": "2024-10-23T11:13:10.467255Z",
     "shell.execute_reply": "2024-10-23T11:13:10.466011Z"
    },
    "papermill": {
     "duration": 0.142456,
     "end_time": "2024-10-23T11:13:10.470227",
     "exception": false,
     "start_time": "2024-10-23T11:13:10.327771",
     "status": "completed"
    },
    "tags": []
   },
   "outputs": [],
   "source": [
    "df.drop(\"flight_num\",axis=1,inplace=True)"
   ]
  },
  {
   "cell_type": "code",
   "execution_count": 34,
   "id": "82ebcb60",
   "metadata": {
    "execution": {
     "iopub.execute_input": "2024-10-23T11:13:10.511117Z",
     "iopub.status.busy": "2024-10-23T11:13:10.510672Z",
     "iopub.status.idle": "2024-10-23T11:13:10.599487Z",
     "shell.execute_reply": "2024-10-23T11:13:10.598209Z"
    },
    "papermill": {
     "duration": 0.112683,
     "end_time": "2024-10-23T11:13:10.602450",
     "exception": false,
     "start_time": "2024-10-23T11:13:10.489767",
     "status": "completed"
    },
    "tags": []
   },
   "outputs": [],
   "source": [
    "df.drop('class',axis=1,inplace=True)"
   ]
  },
  {
   "cell_type": "code",
   "execution_count": 35,
   "id": "59001913",
   "metadata": {
    "execution": {
     "iopub.execute_input": "2024-10-23T11:13:10.642320Z",
     "iopub.status.busy": "2024-10-23T11:13:10.641858Z",
     "iopub.status.idle": "2024-10-23T11:13:10.659934Z",
     "shell.execute_reply": "2024-10-23T11:13:10.658725Z"
    },
    "papermill": {
     "duration": 0.041798,
     "end_time": "2024-10-23T11:13:10.662973",
     "exception": false,
     "start_time": "2024-10-23T11:13:10.621175",
     "status": "completed"
    },
    "tags": []
   },
   "outputs": [
    {
     "data": {
      "text/html": [
       "<div>\n",
       "<style scoped>\n",
       "    .dataframe tbody tr th:only-of-type {\n",
       "        vertical-align: middle;\n",
       "    }\n",
       "\n",
       "    .dataframe tbody tr th {\n",
       "        vertical-align: top;\n",
       "    }\n",
       "\n",
       "    .dataframe thead th {\n",
       "        text-align: right;\n",
       "    }\n",
       "</style>\n",
       "<table border=\"1\" class=\"dataframe\">\n",
       "  <thead>\n",
       "    <tr style=\"text-align: right;\">\n",
       "      <th></th>\n",
       "      <th>airline</th>\n",
       "      <th>from</th>\n",
       "      <th>to</th>\n",
       "      <th>price</th>\n",
       "      <th>stops</th>\n",
       "      <th>Date</th>\n",
       "      <th>Month</th>\n",
       "      <th>Year</th>\n",
       "      <th>Arrival_hour</th>\n",
       "      <th>Arrival_min</th>\n",
       "      <th>Dep_hour</th>\n",
       "      <th>Dep_min</th>\n",
       "      <th>Duration_hour</th>\n",
       "      <th>Duration_minute</th>\n",
       "    </tr>\n",
       "  </thead>\n",
       "  <tbody>\n",
       "    <tr>\n",
       "      <th>0</th>\n",
       "      <td>SpiceJet</td>\n",
       "      <td>Delhi</td>\n",
       "      <td>Mumbai</td>\n",
       "      <td>6,013</td>\n",
       "      <td>0.0</td>\n",
       "      <td>26</td>\n",
       "      <td>6</td>\n",
       "      <td>2023</td>\n",
       "      <td>21</td>\n",
       "      <td>05</td>\n",
       "      <td>18</td>\n",
       "      <td>55</td>\n",
       "      <td>02</td>\n",
       "      <td>10</td>\n",
       "    </tr>\n",
       "    <tr>\n",
       "      <th>1</th>\n",
       "      <td>SpiceJet</td>\n",
       "      <td>Delhi</td>\n",
       "      <td>Mumbai</td>\n",
       "      <td>6,013</td>\n",
       "      <td>0.0</td>\n",
       "      <td>26</td>\n",
       "      <td>6</td>\n",
       "      <td>2023</td>\n",
       "      <td>08</td>\n",
       "      <td>40</td>\n",
       "      <td>6</td>\n",
       "      <td>20</td>\n",
       "      <td>02</td>\n",
       "      <td>20</td>\n",
       "    </tr>\n",
       "  </tbody>\n",
       "</table>\n",
       "</div>"
      ],
      "text/plain": [
       "    airline   from      to  price  stops  Date  Month  Year Arrival_hour  \\\n",
       "0  SpiceJet  Delhi  Mumbai  6,013    0.0    26      6  2023           21   \n",
       "1  SpiceJet  Delhi  Mumbai  6,013    0.0    26      6  2023           08   \n",
       "\n",
       "  Arrival_min  Dep_hour  Dep_min Duration_hour Duration_minute  \n",
       "0          05        18       55            02              10  \n",
       "1          40         6       20            02              20  "
      ]
     },
     "execution_count": 35,
     "metadata": {},
     "output_type": "execute_result"
    }
   ],
   "source": [
    "df.head(2)"
   ]
  },
  {
   "cell_type": "code",
   "execution_count": 36,
   "id": "1b37829d",
   "metadata": {
    "execution": {
     "iopub.execute_input": "2024-10-23T11:13:10.704383Z",
     "iopub.status.busy": "2024-10-23T11:13:10.703596Z",
     "iopub.status.idle": "2024-10-23T11:13:10.737686Z",
     "shell.execute_reply": "2024-10-23T11:13:10.736523Z"
    },
    "papermill": {
     "duration": 0.057577,
     "end_time": "2024-10-23T11:13:10.740424",
     "exception": false,
     "start_time": "2024-10-23T11:13:10.682847",
     "status": "completed"
    },
    "tags": []
   },
   "outputs": [
    {
     "data": {
      "text/plain": [
       "array(['SpiceJet', 'AirAsia', 'Vistara', 'GO FIRST', 'Indigo',\n",
       "       'Air India', 'Trujet', 'StarAir'], dtype=object)"
      ]
     },
     "execution_count": 36,
     "metadata": {},
     "output_type": "execute_result"
    }
   ],
   "source": [
    "df['airline'].unique()"
   ]
  },
  {
   "cell_type": "code",
   "execution_count": 37,
   "id": "583b6a4a",
   "metadata": {
    "execution": {
     "iopub.execute_input": "2024-10-23T11:13:10.781813Z",
     "iopub.status.busy": "2024-10-23T11:13:10.781291Z",
     "iopub.status.idle": "2024-10-23T11:13:10.815775Z",
     "shell.execute_reply": "2024-10-23T11:13:10.814526Z"
    },
    "papermill": {
     "duration": 0.058248,
     "end_time": "2024-10-23T11:13:10.818796",
     "exception": false,
     "start_time": "2024-10-23T11:13:10.760548",
     "status": "completed"
    },
    "tags": []
   },
   "outputs": [
    {
     "data": {
      "text/plain": [
       "array(['SpiceJet', 'AirAsia', 'Vistara', 'GO FIRST', 'Indigo',\n",
       "       'Air India', 'Trujet', 'StarAir'], dtype=object)"
      ]
     },
     "execution_count": 37,
     "metadata": {},
     "output_type": "execute_result"
    }
   ],
   "source": [
    "df['airline'].unique()"
   ]
  },
  {
   "cell_type": "code",
   "execution_count": 38,
   "id": "2addcc49",
   "metadata": {
    "execution": {
     "iopub.execute_input": "2024-10-23T11:13:10.862224Z",
     "iopub.status.busy": "2024-10-23T11:13:10.861757Z",
     "iopub.status.idle": "2024-10-23T11:13:10.898036Z",
     "shell.execute_reply": "2024-10-23T11:13:10.896809Z"
    },
    "papermill": {
     "duration": 0.060524,
     "end_time": "2024-10-23T11:13:10.900557",
     "exception": false,
     "start_time": "2024-10-23T11:13:10.840033",
     "status": "completed"
    },
    "tags": []
   },
   "outputs": [],
   "source": [
    "df.rename(columns={'from': 'source', 'to': 'destination'}, inplace=True)"
   ]
  },
  {
   "cell_type": "code",
   "execution_count": 39,
   "id": "ea553198",
   "metadata": {
    "execution": {
     "iopub.execute_input": "2024-10-23T11:13:10.942866Z",
     "iopub.status.busy": "2024-10-23T11:13:10.942069Z",
     "iopub.status.idle": "2024-10-23T11:13:10.974344Z",
     "shell.execute_reply": "2024-10-23T11:13:10.973094Z"
    },
    "papermill": {
     "duration": 0.056206,
     "end_time": "2024-10-23T11:13:10.977046",
     "exception": false,
     "start_time": "2024-10-23T11:13:10.920840",
     "status": "completed"
    },
    "tags": []
   },
   "outputs": [
    {
     "data": {
      "text/plain": [
       "array(['Delhi', 'Mumbai', 'Bangalore', 'Kolkata', 'Hyderabad', 'Chennai'],\n",
       "      dtype=object)"
      ]
     },
     "execution_count": 39,
     "metadata": {},
     "output_type": "execute_result"
    }
   ],
   "source": [
    "df['source'].unique()"
   ]
  },
  {
   "cell_type": "code",
   "execution_count": 40,
   "id": "7e6ed874",
   "metadata": {
    "execution": {
     "iopub.execute_input": "2024-10-23T11:13:11.022088Z",
     "iopub.status.busy": "2024-10-23T11:13:11.020999Z",
     "iopub.status.idle": "2024-10-23T11:13:11.038627Z",
     "shell.execute_reply": "2024-10-23T11:13:11.037446Z"
    },
    "papermill": {
     "duration": 0.04386,
     "end_time": "2024-10-23T11:13:11.041362",
     "exception": false,
     "start_time": "2024-10-23T11:13:10.997502",
     "status": "completed"
    },
    "tags": []
   },
   "outputs": [
    {
     "data": {
      "text/html": [
       "<div>\n",
       "<style scoped>\n",
       "    .dataframe tbody tr th:only-of-type {\n",
       "        vertical-align: middle;\n",
       "    }\n",
       "\n",
       "    .dataframe tbody tr th {\n",
       "        vertical-align: top;\n",
       "    }\n",
       "\n",
       "    .dataframe thead th {\n",
       "        text-align: right;\n",
       "    }\n",
       "</style>\n",
       "<table border=\"1\" class=\"dataframe\">\n",
       "  <thead>\n",
       "    <tr style=\"text-align: right;\">\n",
       "      <th></th>\n",
       "      <th>airline</th>\n",
       "      <th>source</th>\n",
       "      <th>destination</th>\n",
       "      <th>price</th>\n",
       "      <th>stops</th>\n",
       "      <th>Date</th>\n",
       "      <th>Month</th>\n",
       "      <th>Year</th>\n",
       "      <th>Arrival_hour</th>\n",
       "      <th>Arrival_min</th>\n",
       "      <th>Dep_hour</th>\n",
       "      <th>Dep_min</th>\n",
       "      <th>Duration_hour</th>\n",
       "      <th>Duration_minute</th>\n",
       "    </tr>\n",
       "  </thead>\n",
       "  <tbody>\n",
       "    <tr>\n",
       "      <th>0</th>\n",
       "      <td>SpiceJet</td>\n",
       "      <td>Delhi</td>\n",
       "      <td>Mumbai</td>\n",
       "      <td>6,013</td>\n",
       "      <td>0.0</td>\n",
       "      <td>26</td>\n",
       "      <td>6</td>\n",
       "      <td>2023</td>\n",
       "      <td>21</td>\n",
       "      <td>05</td>\n",
       "      <td>18</td>\n",
       "      <td>55</td>\n",
       "      <td>02</td>\n",
       "      <td>10</td>\n",
       "    </tr>\n",
       "    <tr>\n",
       "      <th>1</th>\n",
       "      <td>SpiceJet</td>\n",
       "      <td>Delhi</td>\n",
       "      <td>Mumbai</td>\n",
       "      <td>6,013</td>\n",
       "      <td>0.0</td>\n",
       "      <td>26</td>\n",
       "      <td>6</td>\n",
       "      <td>2023</td>\n",
       "      <td>08</td>\n",
       "      <td>40</td>\n",
       "      <td>6</td>\n",
       "      <td>20</td>\n",
       "      <td>02</td>\n",
       "      <td>20</td>\n",
       "    </tr>\n",
       "  </tbody>\n",
       "</table>\n",
       "</div>"
      ],
      "text/plain": [
       "    airline source destination  price  stops  Date  Month  Year Arrival_hour  \\\n",
       "0  SpiceJet  Delhi      Mumbai  6,013    0.0    26      6  2023           21   \n",
       "1  SpiceJet  Delhi      Mumbai  6,013    0.0    26      6  2023           08   \n",
       "\n",
       "  Arrival_min  Dep_hour  Dep_min Duration_hour Duration_minute  \n",
       "0          05        18       55            02              10  \n",
       "1          40         6       20            02              20  "
      ]
     },
     "execution_count": 40,
     "metadata": {},
     "output_type": "execute_result"
    }
   ],
   "source": [
    "df.head(2)"
   ]
  },
  {
   "cell_type": "code",
   "execution_count": 41,
   "id": "c63df78a",
   "metadata": {
    "execution": {
     "iopub.execute_input": "2024-10-23T11:13:11.084059Z",
     "iopub.status.busy": "2024-10-23T11:13:11.083601Z",
     "iopub.status.idle": "2024-10-23T11:13:11.455283Z",
     "shell.execute_reply": "2024-10-23T11:13:11.454075Z"
    },
    "papermill": {
     "duration": 0.396806,
     "end_time": "2024-10-23T11:13:11.458236",
     "exception": false,
     "start_time": "2024-10-23T11:13:11.061430",
     "status": "completed"
    },
    "tags": []
   },
   "outputs": [
    {
     "data": {
      "image/png": "[encoded data removed]",
      "text/plain": [
       "<Figure size 1200x800 with 1 Axes>"
      ]
     },
     "metadata": {},
     "output_type": "display_data"
    }
   ],
   "source": [
    "airline_counts = df['airline'].value_counts()\n",
    "\n",
    "# Create the pie chart\n",
    "plt.figure(figsize=(12, 8))  # Set the figure size\n",
    "plt.pie(airline_counts, labels=airline_counts.index, autopct='%1.1f%%', startangle=90)\n",
    "plt.title('Airline Distribution')\n",
    "plt.axis('equal')  # Equal aspect ratio ensures that pie is drawn as a circle\n",
    "plt.show()"
   ]
  },
  {
   "cell_type": "code",
   "execution_count": 42,
   "id": "3235cb68",
   "metadata": {
    "execution": {
     "iopub.execute_input": "2024-10-23T11:13:11.502672Z",
     "iopub.status.busy": "2024-10-23T11:13:11.502257Z",
     "iopub.status.idle": "2024-10-23T11:13:11.808294Z",
     "shell.execute_reply": "2024-10-23T11:13:11.806882Z"
    },
    "papermill": {
     "duration": 0.331834,
     "end_time": "2024-10-23T11:13:11.811092",
     "exception": false,
     "start_time": "2024-10-23T11:13:11.479258",
     "status": "completed"
    },
    "tags": []
   },
   "outputs": [
    {
     "name": "stdout",
     "output_type": "stream",
     "text": [
      "<class 'pandas.core.frame.DataFrame'>\n",
      "RangeIndex: 300261 entries, 0 to 300260\n",
      "Data columns (total 14 columns):\n",
      " #   Column           Non-Null Count   Dtype  \n",
      "---  ------           --------------   -----  \n",
      " 0   airline          300261 non-null  object \n",
      " 1   source           300261 non-null  object \n",
      " 2   destination      300261 non-null  object \n",
      " 3   price            300261 non-null  object \n",
      " 4   stops            292935 non-null  float64\n",
      " 5   Date             300261 non-null  int64  \n",
      " 6   Month            300261 non-null  int64  \n",
      " 7   Year             300261 non-null  int64  \n",
      " 8   Arrival_hour     300261 non-null  object \n",
      " 9   Arrival_min      300261 non-null  object \n",
      " 10  Dep_hour         300261 non-null  int64  \n",
      " 11  Dep_min          300261 non-null  int64  \n",
      " 12  Duration_hour    300261 non-null  object \n",
      " 13  Duration_minute  300261 non-null  object \n",
      "dtypes: float64(1), int64(5), object(8)\n",
      "memory usage: 32.1+ MB\n"
     ]
    }
   ],
   "source": [
    "df.info()"
   ]
  },
  {
   "cell_type": "code",
   "execution_count": 43,
   "id": "131b8056",
   "metadata": {
    "execution": {
     "iopub.execute_input": "2024-10-23T11:13:11.854684Z",
     "iopub.status.busy": "2024-10-23T11:13:11.854256Z",
     "iopub.status.idle": "2024-10-23T11:13:12.084559Z",
     "shell.execute_reply": "2024-10-23T11:13:12.083325Z"
    },
    "papermill": {
     "duration": 0.255441,
     "end_time": "2024-10-23T11:13:12.087389",
     "exception": false,
     "start_time": "2024-10-23T11:13:11.831948",
     "status": "completed"
    },
    "tags": []
   },
   "outputs": [],
   "source": [
    "df['price_cleaned'] = df['price'].str.replace(',', '').astype(int)"
   ]
  },
  {
   "cell_type": "code",
   "execution_count": 44,
   "id": "f88766b8",
   "metadata": {
    "execution": {
     "iopub.execute_input": "2024-10-23T11:13:12.131166Z",
     "iopub.status.busy": "2024-10-23T11:13:12.130570Z",
     "iopub.status.idle": "2024-10-23T11:13:15.254829Z",
     "shell.execute_reply": "2024-10-23T11:13:15.253434Z"
    },
    "papermill": {
     "duration": 3.149783,
     "end_time": "2024-10-23T11:13:15.258107",
     "exception": false,
     "start_time": "2024-10-23T11:13:12.108324",
     "status": "completed"
    },
    "tags": []
   },
   "outputs": [
    {
     "data": {
      "text/plain": [
       "<Axes: xlabel='airline', ylabel='price_cleaned'>"
      ]
     },
     "execution_count": 44,
     "metadata": {},
     "output_type": "execute_result"
    },
    {
     "data": {
      "image/png": "[encoded data removed]",
      "text/plain": [
       "<Figure size 1200x600 with 1 Axes>"
      ]
     },
     "metadata": {},
     "output_type": "display_data"
    }
   ],
   "source": [
    "plt.figure(figsize=(12,6))\n",
    "sns.barplot(data=df,x='airline',y='price_cleaned')"
   ]
  },
  {
   "cell_type": "code",
   "execution_count": 45,
   "id": "2de08709",
   "metadata": {
    "execution": {
     "iopub.execute_input": "2024-10-23T11:13:15.305132Z",
     "iopub.status.busy": "2024-10-23T11:13:15.304076Z",
     "iopub.status.idle": "2024-10-23T11:13:18.632795Z",
     "shell.execute_reply": "2024-10-23T11:13:18.631550Z"
    },
    "papermill": {
     "duration": 3.354735,
     "end_time": "2024-10-23T11:13:18.635477",
     "exception": false,
     "start_time": "2024-10-23T11:13:15.280742",
     "status": "completed"
    },
    "tags": []
   },
   "outputs": [
    {
     "data": {
      "text/plain": [
       "<Axes: xlabel='stops', ylabel='price_cleaned'>"
      ]
     },
     "execution_count": 45,
     "metadata": {},
     "output_type": "execute_result"
    },
    {
     "data": {
      "image/png": "[encoded data removed]",
      "text/plain": [
       "<Figure size 1200x600 with 1 Axes>"
      ]
     },
     "metadata": {},
     "output_type": "display_data"
    }
   ],
   "source": [
    "plt.figure(figsize=(12,6))\n",
    "sns.barplot(data=df,x='stops',y='price_cleaned')"
   ]
  },
  {
   "cell_type": "code",
   "execution_count": 46,
   "id": "db1c55c4",
   "metadata": {
    "execution": {
     "iopub.execute_input": "2024-10-23T11:13:18.681301Z",
     "iopub.status.busy": "2024-10-23T11:13:18.680833Z",
     "iopub.status.idle": "2024-10-23T11:13:21.536248Z",
     "shell.execute_reply": "2024-10-23T11:13:21.534871Z"
    },
    "papermill": {
     "duration": 2.881894,
     "end_time": "2024-10-23T11:13:21.539369",
     "exception": false,
     "start_time": "2024-10-23T11:13:18.657475",
     "status": "completed"
    },
    "tags": []
   },
   "outputs": [
    {
     "data": {
      "text/plain": [
       "<Axes: xlabel='destination', ylabel='price_cleaned'>"
      ]
     },
     "execution_count": 46,
     "metadata": {},
     "output_type": "execute_result"
    },
    {
     "data": {
      "image/png": "[encoded data removed]",
      "text/plain": [
       "<Figure size 1200x600 with 1 Axes>"
      ]
     },
     "metadata": {},
     "output_type": "display_data"
    }
   ],
   "source": [
    "plt.figure(figsize=(12,6))\n",
    "sns.barplot(data=df,x='destination',y='price_cleaned')"
   ]
  },
  {
   "cell_type": "code",
   "execution_count": 47,
   "id": "6280ff92",
   "metadata": {
    "execution": {
     "iopub.execute_input": "2024-10-23T11:13:21.587383Z",
     "iopub.status.busy": "2024-10-23T11:13:21.586911Z",
     "iopub.status.idle": "2024-10-23T11:13:21.857999Z",
     "shell.execute_reply": "2024-10-23T11:13:21.856878Z"
    },
    "papermill": {
     "duration": 0.298203,
     "end_time": "2024-10-23T11:13:21.860901",
     "exception": false,
     "start_time": "2024-10-23T11:13:21.562698",
     "status": "completed"
    },
    "tags": []
   },
   "outputs": [
    {
     "data": {
      "text/plain": [
       "<Axes: xlabel='price_cleaned'>"
      ]
     },
     "execution_count": 47,
     "metadata": {},
     "output_type": "execute_result"
    },
    {
     "data": {
      "image/png": "[encoded data removed]",
      "text/plain": [
       "<Figure size 1200x800 with 1 Axes>"
      ]
     },
     "metadata": {},
     "output_type": "display_data"
    }
   ],
   "source": [
    "# Create boxplots for numerical columns\n",
    "plt.figure(figsize=(12,8))\n",
    "sns.boxplot(data=df,x='price_cleaned')"
   ]
  },
  {
   "cell_type": "code",
   "execution_count": 48,
   "id": "f07951ac",
   "metadata": {
    "execution": {
     "iopub.execute_input": "2024-10-23T11:13:21.910196Z",
     "iopub.status.busy": "2024-10-23T11:13:21.909686Z",
     "iopub.status.idle": "2024-10-23T11:13:22.367959Z",
     "shell.execute_reply": "2024-10-23T11:13:22.366476Z"
    },
    "papermill": {
     "duration": 0.485979,
     "end_time": "2024-10-23T11:13:22.370739",
     "exception": false,
     "start_time": "2024-10-23T11:13:21.884760",
     "status": "completed"
    },
    "tags": []
   },
   "outputs": [
    {
     "data": {
      "image/png": "[encoded data removed]",
      "text/plain": [
       "<Figure size 1000x600 with 1 Axes>"
      ]
     },
     "metadata": {},
     "output_type": "display_data"
    }
   ],
   "source": [
    "df['z_score'] = (df['price_cleaned'] - df['price_cleaned'].mean()) / df['price_cleaned'].std()\n",
    "threshold = 3\n",
    "df_cleaned = df[np.abs(df['z_score']) <= threshold]\n",
    "\n",
    "# Drop the 'z_score' column if you don't need it anymore\n",
    "df_cleaned.drop(columns=['z_score'], inplace=True)\n",
    "\n",
    "# Create the box plot for 'price_cleaned'\n",
    "plt.figure(figsize=(10, 6))\n",
    "sns.boxplot(data=df_cleaned, y='price_cleaned', palette='Set2')\n",
    "plt.title('Box Plot of Price Cleaned (After Removing Outliers)')\n",
    "plt.ylabel('Price Cleaned')\n",
    "plt.grid(axis='y')\n",
    "plt.show()"
   ]
  }
 ],
 "metadata": {
  "kaggle": {
   "accelerator": "none",
   "dataSources": [
    {
     "datasetId": 5895317,
     "sourceId": 9651570,
     "sourceType": "datasetVersion"
    }
   ],
   "dockerImageVersionId": 30786,
   "isGpuEnabled": false,
   "isInternetEnabled": false,
   "language": "python",
   "sourceType": "notebook"
  },
  "kernelspec": {
   "display_name": "Python 3",
   "language": "python",
   "name": "python3"
  },
  "language_info": {
   "codemirror_mode": {
    "name": "ipython",
    "version": 3
   },
   "file_extension": ".py",
   "mimetype": "text/x-python",
   "name": "python",
   "nbconvert_exporter": "python",
   "pygments_lexer": "ipython3",
   "version": "3.10.14"
  },
  "papermill": {
   "default_parameters": {},
   "duration": 34.783682,
   "end_time": "2024-10-23T11:13:23.318544",
   "environment_variables": {},
   "exception": null,
   "input_path": "__notebook__.ipynb",
   "output_path": "__notebook__.ipynb",
   "parameters": {},
   "start_time": "2024-10-23T11:12:48.534862",
   "version": "2.6.0"
  }
 },
 "nbformat": 4,
 "nbformat_minor": 5
}
